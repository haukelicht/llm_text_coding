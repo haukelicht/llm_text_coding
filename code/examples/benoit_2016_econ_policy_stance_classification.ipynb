{
 "cells": [
  {
   "cell_type": "markdown",
   "metadata": {},
   "source": [
    "# Using GPT-4 turbo for economic policy stance classification\n",
    "\n",
    "| Authors | Last update |\n",
    "|:------ |:----------- |\n",
    "| Hauke Licht (https://github.com/haukelicht) | 2024-03-25 |\n",
    "\n",
    "In this notebook, we take data collected by Benoit et al. ([2016](doi.org/10.1017/S0003055416000058)) to illustrate how to use GPT-4-turbo through the OpenAI chat completions API to classify texts."
   ]
  },
  {
   "cell_type": "markdown",
   "metadata": {},
   "source": [
    "## Setup"
   ]
  },
  {
   "cell_type": "code",
   "execution_count": 37,
   "metadata": {},
   "outputs": [],
   "source": [
    "import warnings\n",
    "warnings.filterwarnings(\"ignore\")\n",
    "\n",
    "# for using openai models\n",
    "import pandas as pd\n",
    "from openai import OpenAI\n",
    "import tiktoken\n",
    "client = OpenAI(api_key=os.getenv(\"OPENAI_API_KEY\"))\n",
    "\n",
    "# for data wrangling\n",
    "import os\n",
    "from tqdm.auto import tqdm\n",
    "tqdm.pandas()\n",
    "\n",
    "# for evaluate\n",
    "from sklearn.metrics import classification_report"
   ]
  },
  {
   "cell_type": "code",
   "execution_count": 2,
   "metadata": {},
   "outputs": [],
   "source": [
    "MODEL = 'gpt-4-0125-preview'"
   ]
  },
  {
   "cell_type": "markdown",
   "metadata": {},
   "source": [
    "### Get the tokenizer for cost computations"
   ]
  },
  {
   "cell_type": "code",
   "execution_count": 3,
   "metadata": {},
   "outputs": [],
   "source": [
    "from typing import Union, List\n",
    "\n",
    "class TokenCounter:\n",
    "    def __init__(self, encoding_name: Union[str, None] = None, model: Union[str, None] = None):\n",
    "        \"\"\"\n",
    "        Initialize the tokenizer with either a model or an encoding name.\n",
    "\n",
    "        Args:\n",
    "            encoding_name (Union[str, None]): The name of the encoding to use. Default is None.\n",
    "            model (Union[str, None]): The model to use for encoding. Default is None.\n",
    "\n",
    "        Raises:\n",
    "            ValueError: If neither model nor encoding_name is provided.\n",
    "            ValueError: If both model and encoding_name are provided.\n",
    "        \"\"\"\n",
    "        # ensure that either model or encoding_name is provided\n",
    "        if model is None and encoding_name is None:\n",
    "            raise ValueError(\"Either `model` or `encoding_name` must be provided.\")\n",
    "        if model is not None and encoding_name is not None:\n",
    "            raise ValueError(\"Only one of `model` or `encoding_name` can be provided.\")\n",
    "        if encoding_name:\n",
    "            self.encoding = tiktoken.get_encoding(encoding_name)\n",
    "        else:\n",
    "            self.encoding = tiktoken.encoding_for_model(model)\n",
    "    \n",
    "    def count_tokens(self, input: Union[str, List[str]]) -> Union[int, List[int]]:\n",
    "        \"\"\"\n",
    "        Count the number of tokens in the input.\n",
    "\n",
    "        Args:\n",
    "            input (Union[str, List[str]]): The input to tokenize. Can be a string or a list of strings.\n",
    "\n",
    "        Returns:\n",
    "            Union[int, List[int]]: The number of tokens in the input. If the input is a list, returns a list of token counts.\n",
    "        \"\"\"\n",
    "        if isinstance(input, str):\n",
    "            return len(self.encoding.encode(input))\n",
    "        else:\n",
    "            toks = self.encoding.encode_batch(input)\n",
    "            return [len(t) for t in toks]\n",
    "\n",
    "    def __call__(self, input: Union[str, List[str]]) -> Union[int, List[int]]:\n",
    "        \"\"\"\n",
    "        Call the tokenizer on the input. This is equivalent to calling count_tokens.\n",
    "\n",
    "        Args:\n",
    "            input (Union[str, List[str]]): The input to tokenize. Can be a string or a list of strings.\n",
    "\n",
    "        Returns:\n",
    "            Union[int, List[int]]: The number of tokens in the input. If the input is a list, returns a list of token counts.\n",
    "        \"\"\"\n",
    "        return self.count_tokens(input)"
   ]
  },
  {
   "cell_type": "code",
   "execution_count": 4,
   "metadata": {},
   "outputs": [],
   "source": [
    "token_counter = TokenCounter(model=MODEL)"
   ]
  },
  {
   "cell_type": "markdown",
   "metadata": {},
   "source": [
    "### Load the data"
   ]
  },
  {
   "cell_type": "code",
   "execution_count": 7,
   "metadata": {},
   "outputs": [],
   "source": [
    "base_path = os.path.join('..', '..')\n",
    "data_path = os.path.join(base_path, 'data', 'benoit_crowdsourced_2016') "
   ]
  },
  {
   "cell_type": "code",
   "execution_count": 8,
   "metadata": {},
   "outputs": [],
   "source": [
    "fp = os.path.join(data_path, \"benoit_crowdsourced_2016_econ_policy_stance.csv\")\n",
    "df = pd.read_csv(fp)"
   ]
  },
  {
   "cell_type": "code",
   "execution_count": 9,
   "metadata": {},
   "outputs": [
    {
     "data": {
      "text/plain": [
       "225"
      ]
     },
     "execution_count": 9,
     "metadata": {},
     "output_type": "execute_result"
    }
   ],
   "source": [
    "# keep only gold-standard examples\n",
    "df = df[df.metadata__gold]\n",
    "len(df)"
   ]
  },
  {
   "cell_type": "code",
   "execution_count": 10,
   "metadata": {},
   "outputs": [
    {
     "data": {
      "text/plain": [
       "label\n",
       " 1    160\n",
       "-1     65\n",
       "Name: count, dtype: int64"
      ]
     },
     "execution_count": 10,
     "metadata": {},
     "output_type": "execute_result"
    }
   ],
   "source": [
    "df.label.value_counts()"
   ]
  },
  {
   "cell_type": "markdown",
   "metadata": {},
   "source": [
    "**_Note:_** while the stance/position scale ranges from -2 (very left) to 2 (very right) and includes 0 (neutral), all of the gold-standard examples are either \"somewhat left\" (-1) or \"somewhat right\" (+1)."
   ]
  },
  {
   "cell_type": "code",
   "execution_count": 11,
   "metadata": {},
   "outputs": [
    {
     "data": {
      "text/html": [
       "<div>\n",
       "<style scoped>\n",
       "    .dataframe tbody tr th:only-of-type {\n",
       "        vertical-align: middle;\n",
       "    }\n",
       "\n",
       "    .dataframe tbody tr th {\n",
       "        vertical-align: top;\n",
       "    }\n",
       "\n",
       "    .dataframe thead th {\n",
       "        text-align: right;\n",
       "    }\n",
       "</style>\n",
       "<table border=\"1\" class=\"dataframe\">\n",
       "  <thead>\n",
       "    <tr style=\"text-align: right;\">\n",
       "      <th></th>\n",
       "      <th>uid</th>\n",
       "      <th>text</th>\n",
       "      <th>label</th>\n",
       "      <th>metadata__gold</th>\n",
       "      <th>metadata__sentence_id</th>\n",
       "      <th>metadata__pre_sentence</th>\n",
       "      <th>metadata__post_sentence</th>\n",
       "    </tr>\n",
       "  </thead>\n",
       "  <tbody>\n",
       "    <tr>\n",
       "      <th>5</th>\n",
       "      <td>10000211</td>\n",
       "      <td>That the leader of the Transport and General W...</td>\n",
       "      <td>1</td>\n",
       "      <td>True</td>\n",
       "      <td>10000211</td>\n",
       "      <td>A vast change separates the Britain of today f...</td>\n",
       "      <td>That a minority Labour Government, staggering ...</td>\n",
       "    </tr>\n",
       "  </tbody>\n",
       "</table>\n",
       "</div>"
      ],
      "text/plain": [
       "        uid                                               text  label  \\\n",
       "5  10000211  That the leader of the Transport and General W...      1   \n",
       "\n",
       "   metadata__gold  metadata__sentence_id  \\\n",
       "5            True               10000211   \n",
       "\n",
       "                              metadata__pre_sentence  \\\n",
       "5  A vast change separates the Britain of today f...   \n",
       "\n",
       "                             metadata__post_sentence  \n",
       "5  That a minority Labour Government, staggering ...  "
      ]
     },
     "execution_count": 11,
     "metadata": {},
     "output_type": "execute_result"
    }
   ],
   "source": [
    "df.head(1)"
   ]
  },
  {
   "cell_type": "markdown",
   "metadata": {},
   "source": [
    "When distributing sentences to crowd workers for coding, Benoit et al. provided the sentence(s) preceeding and following the to-be-coded sentence.\n",
    "We will replicate this approach and thus need to add the context sentences to the to-be-coded text"
   ]
  },
  {
   "cell_type": "code",
   "execution_count": 12,
   "metadata": {},
   "outputs": [],
   "source": [
    "# construct input \n",
    "def construct_input(row):\n",
    "    out = \"\"\n",
    "    if isinstance(row['metadata__pre_sentence'], str):\n",
    "        out += row['metadata__pre_sentence'].strip() + \" \"\n",
    "    out += '\"\"\"'\n",
    "    out += row['text'].strip()\n",
    "    out += '\"\"\"'\n",
    "    if isinstance(row['metadata__post_sentence'], str):\n",
    "        out += \" \" + row['metadata__post_sentence'].strip()\n",
    "    return out\n",
    "\n",
    "df['input'] = df.apply(construct_input, axis=1).tolist()"
   ]
  },
  {
   "cell_type": "markdown",
   "metadata": {},
   "source": [
    "## Classify"
   ]
  },
  {
   "cell_type": "markdown",
   "metadata": {},
   "source": [
    "### Define the instructions"
   ]
  },
  {
   "cell_type": "code",
   "execution_count": 17,
   "metadata": {},
   "outputs": [],
   "source": [
    "# adapt instructions from Benoit et al.'s original crowd coding instructions (see data/benoit_crowdsourced_2016/instructions/) \n",
    "instructions = \"\"\"\n",
    "Your task is to read sentences from political texts about economic policy issues and classify their stance on the issue.\n",
    "\n",
    "The sentences you will be asked to interpret come from political party manifestos.\n",
    "\n",
    "First, you will read a short section from a party manifesto. For the focal sentence enclosed in triple quotes, you will then indicate your best judgment of whether the sentence expresses a left or right economic policy stance.\n",
    "\n",
    "For each focal sentence, choose one of the following categories: \"left\", \"right\".\n",
    "\n",
    "We tell you below about what we mean by \"left\" and \"right\".\n",
    "\n",
    "## What is a \"left\" economic policy stance?\n",
    "\n",
    "**\"Left\" economic policies** tend to favor one or more of the following: \n",
    "\n",
    "- High levels of services provided by the government and state benefits, even if this implies high levels of taxation;\n",
    "- Public investment. Public ownership or control of sections of business and industry;\n",
    "- Public regulation of private business and economic activity;\n",
    "- Support for workers/trade unions relative to employers\n",
    "\n",
    "## What is a \"right\" economic policy stance?\n",
    "\n",
    "**\"Right\" economic policies** tend to favor one or more of the following: \n",
    "\n",
    "- Low levels of taxation, even if this implies low levels of levels of services provided by the government and state benefits;\n",
    "- Private investment. Minimal public ownership or control of business and industry;\n",
    "- Minimal public regulation of private business and economic activity;\n",
    "- Support for employers relative to trade unions/workers\n",
    "\n",
    "\"\"\""
   ]
  },
  {
   "cell_type": "markdown",
   "metadata": {},
   "source": [
    "### Simple example"
   ]
  },
  {
   "cell_type": "markdown",
   "metadata": {},
   "source": [
    "Let's just inspect one example:"
   ]
  },
  {
   "cell_type": "code",
   "execution_count": 19,
   "metadata": {},
   "outputs": [
    {
     "name": "stdout",
     "output_type": "stream",
     "text": [
      "TEXT: to strengthen the rights of women at work including equal pay for work of equal value and equal treatment. We will ensure that all public authorities and private contractors are equal opportunity employers and we will promote changes to enable those with domestic responsibilities to secure access to employment. \"\"\"We would restore maternity grants and give a tax allowance to help with child-care costs.\"\"\" We would remove the tax on the use of workplace nurseries and encourage wider provision of child-care facilities. UNEMPLOYMENT. Unemployment at present levels is not the inevitable result of new technology or world recession - Japan has only 2.5% unemployment and US unemployment has fallen by two million since 1983.\n",
      "LABEL: -1\n"
     ]
    }
   ],
   "source": [
    "i = 101 # \n",
    "print('TEXT:', df.input.values[i])\n",
    "print('LABEL:', df.label.values[i]) "
   ]
  },
  {
   "cell_type": "code",
   "execution_count": 20,
   "metadata": {},
   "outputs": [
    {
     "data": {
      "text/plain": [
       "'left'"
      ]
     },
     "execution_count": 20,
     "metadata": {},
     "output_type": "execute_result"
    }
   ],
   "source": [
    "messages = [ \n",
    "    {\"role\": \"system\", \"content\": instructions},\n",
    "    {\"role\": \"user\", \"content\": df['input'].values[i]}\n",
    "]\n",
    "\n",
    "response = client.chat.completions.create(\n",
    "    model=MODEL,\n",
    "    messages=messages,\n",
    "    seed=42,\n",
    "    temperature=0.0,\n",
    ")\n",
    "\n",
    "results = response.choices[0].message.content\n",
    "results"
   ]
  },
  {
   "cell_type": "markdown",
   "metadata": {},
   "source": [
    "The category 'left' corresponds to the numeric code -1, so the classification is correct according to the gold standard!"
   ]
  },
  {
   "cell_type": "markdown",
   "metadata": {},
   "source": [
    "### Zero-shot classification"
   ]
  },
  {
   "cell_type": "code",
   "execution_count": 21,
   "metadata": {},
   "outputs": [],
   "source": [
    "def classify_text(text):\n",
    "    messages = [ \n",
    "        {\"role\": \"system\", \"content\": instructions},\n",
    "        {\"role\": \"user\", \"content\": text}\n",
    "    ]\n",
    "\n",
    "    response = client.chat.completions.create(\n",
    "        model=MODEL,\n",
    "        messages=messages,\n",
    "        seed=42,\n",
    "        temperature=0.0,\n",
    "    )\n",
    "\n",
    "    results = response.choices[0].message.content\n",
    "    return results"
   ]
  },
  {
   "cell_type": "markdown",
   "metadata": {},
   "source": [
    "Let's just sample 25 examples per category. This should be enough to compute how well GPT performs in this classification task."
   ]
  },
  {
   "cell_type": "code",
   "execution_count": 22,
   "metadata": {},
   "outputs": [
    {
     "data": {
      "text/html": [
       "<div>\n",
       "<style scoped>\n",
       "    .dataframe tbody tr th:only-of-type {\n",
       "        vertical-align: middle;\n",
       "    }\n",
       "\n",
       "    .dataframe tbody tr th {\n",
       "        vertical-align: top;\n",
       "    }\n",
       "\n",
       "    .dataframe thead th {\n",
       "        text-align: right;\n",
       "    }\n",
       "</style>\n",
       "<table border=\"1\" class=\"dataframe\">\n",
       "  <thead>\n",
       "    <tr style=\"text-align: right;\">\n",
       "      <th></th>\n",
       "      <th>uid</th>\n",
       "      <th>input</th>\n",
       "      <th>label</th>\n",
       "    </tr>\n",
       "  </thead>\n",
       "  <tbody>\n",
       "    <tr>\n",
       "      <th>0</th>\n",
       "      <td>30001331</td>\n",
       "      <td>Encourage the establishment and success of co-...</td>\n",
       "      <td>-1</td>\n",
       "    </tr>\n",
       "    <tr>\n",
       "      <th>1</th>\n",
       "      <td>50008451</td>\n",
       "      <td>We will raise the basic rate of income tax by ...</td>\n",
       "      <td>-1</td>\n",
       "    </tr>\n",
       "    <tr>\n",
       "      <th>2</th>\n",
       "      <td>20002551</td>\n",
       "      <td>The dole queue is three times what it was in 1...</td>\n",
       "      <td>-1</td>\n",
       "    </tr>\n",
       "    <tr>\n",
       "      <th>3</th>\n",
       "      <td>30000891</td>\n",
       "      <td>We will increase child benefit by Œ£3 a week f...</td>\n",
       "      <td>-1</td>\n",
       "    </tr>\n",
       "    <tr>\n",
       "      <th>4</th>\n",
       "      <td>20004521</td>\n",
       "      <td>The Conservatives' taxation and benefit polici...</td>\n",
       "      <td>-1</td>\n",
       "    </tr>\n",
       "    <tr>\n",
       "      <th>5</th>\n",
       "      <td>60002701</td>\n",
       "      <td>The University for Industry will be a public/p...</td>\n",
       "      <td>-1</td>\n",
       "    </tr>\n",
       "    <tr>\n",
       "      <th>6</th>\n",
       "      <td>20004651</td>\n",
       "      <td>For poorer pensioners we will introduce an add...</td>\n",
       "      <td>-1</td>\n",
       "    </tr>\n",
       "    <tr>\n",
       "      <th>7</th>\n",
       "      <td>20004611</td>\n",
       "      <td>The second phase of our proposals will be a re...</td>\n",
       "      <td>-1</td>\n",
       "    </tr>\n",
       "    <tr>\n",
       "      <th>8</th>\n",
       "      <td>60004261</td>\n",
       "      <td>Every modern industrial country has a minimum ...</td>\n",
       "      <td>-1</td>\n",
       "    </tr>\n",
       "    <tr>\n",
       "      <th>9</th>\n",
       "      <td>20004831</td>\n",
       "      <td>We do not support this discrimination based on...</td>\n",
       "      <td>-1</td>\n",
       "    </tr>\n",
       "    <tr>\n",
       "      <th>10</th>\n",
       "      <td>20004861</td>\n",
       "      <td>We will establish clear criteria of eligibilit...</td>\n",
       "      <td>-1</td>\n",
       "    </tr>\n",
       "    <tr>\n",
       "      <th>11</th>\n",
       "      <td>20004581</td>\n",
       "      <td>First, we will, over the first two years, impr...</td>\n",
       "      <td>-1</td>\n",
       "    </tr>\n",
       "    <tr>\n",
       "      <th>12</th>\n",
       "      <td>30000851</td>\n",
       "      <td>We will provide pensioners on supplementary be...</td>\n",
       "      <td>-1</td>\n",
       "    </tr>\n",
       "    <tr>\n",
       "      <th>13</th>\n",
       "      <td>20004631</td>\n",
       "      <td>We will increase the basic state retirement pe...</td>\n",
       "      <td>-1</td>\n",
       "    </tr>\n",
       "    <tr>\n",
       "      <th>14</th>\n",
       "      <td>20005041</td>\n",
       "      <td>improve the provision of education for those w...</td>\n",
       "      <td>-1</td>\n",
       "    </tr>\n",
       "    <tr>\n",
       "      <th>15</th>\n",
       "      <td>20004751</td>\n",
       "      <td>FAMILIES IN WORK. We will add £5 per week to t...</td>\n",
       "      <td>-1</td>\n",
       "    </tr>\n",
       "    <tr>\n",
       "      <th>16</th>\n",
       "      <td>20004501</td>\n",
       "      <td>ENDING POVERTY. We can and will relieve many t...</td>\n",
       "      <td>-1</td>\n",
       "    </tr>\n",
       "    <tr>\n",
       "      <th>17</th>\n",
       "      <td>20004661</td>\n",
       "      <td>This will increase the incomes of poorer pensi...</td>\n",
       "      <td>-1</td>\n",
       "    </tr>\n",
       "    <tr>\n",
       "      <th>18</th>\n",
       "      <td>30000841</td>\n",
       "      <td>We will begin the abolition of the TV licence ...</td>\n",
       "      <td>-1</td>\n",
       "    </tr>\n",
       "    <tr>\n",
       "      <th>19</th>\n",
       "      <td>20004571</td>\n",
       "      <td>Our proposals fall into two parts:   First, we...</td>\n",
       "      <td>-1</td>\n",
       "    </tr>\n",
       "    <tr>\n",
       "      <th>20</th>\n",
       "      <td>20004541</td>\n",
       "      <td>The Alliance will tackle poverty by targeting ...</td>\n",
       "      <td>-1</td>\n",
       "    </tr>\n",
       "    <tr>\n",
       "      <th>21</th>\n",
       "      <td>60003561</td>\n",
       "      <td>Gains for consumers with tough competition law...</td>\n",
       "      <td>-1</td>\n",
       "    </tr>\n",
       "    <tr>\n",
       "      <th>22</th>\n",
       "      <td>20004511</td>\n",
       "      <td>Poverty in Britain is getting worse. The Conse...</td>\n",
       "      <td>-1</td>\n",
       "    </tr>\n",
       "    <tr>\n",
       "      <th>23</th>\n",
       "      <td>30001021</td>\n",
       "      <td>We will pay for them by: Putting directly into...</td>\n",
       "      <td>-1</td>\n",
       "    </tr>\n",
       "    <tr>\n",
       "      <th>24</th>\n",
       "      <td>30000811</td>\n",
       "      <td>Millions who are not poor regard it as a disgr...</td>\n",
       "      <td>-1</td>\n",
       "    </tr>\n",
       "    <tr>\n",
       "      <th>25</th>\n",
       "      <td>40002531</td>\n",
       "      <td>Families and Tax. We believe families should b...</td>\n",
       "      <td>1</td>\n",
       "    </tr>\n",
       "    <tr>\n",
       "      <th>26</th>\n",
       "      <td>40006551</td>\n",
       "      <td>These characteristics must continue, but refor...</td>\n",
       "      <td>1</td>\n",
       "    </tr>\n",
       "    <tr>\n",
       "      <th>27</th>\n",
       "      <td>10005071</td>\n",
       "      <td>We will develop it further along these lines. ...</td>\n",
       "      <td>1</td>\n",
       "    </tr>\n",
       "    <tr>\n",
       "      <th>28</th>\n",
       "      <td>10003411</td>\n",
       "      <td>As a party committed to the family and opposed...</td>\n",
       "      <td>1</td>\n",
       "    </tr>\n",
       "    <tr>\n",
       "      <th>29</th>\n",
       "      <td>10001411</td>\n",
       "      <td>More must now be done. The next Conservative G...</td>\n",
       "      <td>1</td>\n",
       "    </tr>\n",
       "    <tr>\n",
       "      <th>30</th>\n",
       "      <td>40001131</td>\n",
       "      <td>No Conservative government will jeopardise thi...</td>\n",
       "      <td>1</td>\n",
       "    </tr>\n",
       "    <tr>\n",
       "      <th>31</th>\n",
       "      <td>10001741</td>\n",
       "      <td>In the last eight years, as a result of our po...</td>\n",
       "      <td>1</td>\n",
       "    </tr>\n",
       "    <tr>\n",
       "      <th>32</th>\n",
       "      <td>10004331</td>\n",
       "      <td>The Manpower Services Commission would then be...</td>\n",
       "      <td>1</td>\n",
       "    </tr>\n",
       "    <tr>\n",
       "      <th>33</th>\n",
       "      <td>10004351</td>\n",
       "      <td>We will increase employer representation on th...</td>\n",
       "      <td>1</td>\n",
       "    </tr>\n",
       "    <tr>\n",
       "      <th>34</th>\n",
       "      <td>40002811</td>\n",
       "      <td>We will continue to raise the threshold for in...</td>\n",
       "      <td>1</td>\n",
       "    </tr>\n",
       "    <tr>\n",
       "      <th>35</th>\n",
       "      <td>20003181</td>\n",
       "      <td>We will continue to judge whether industries s...</td>\n",
       "      <td>1</td>\n",
       "    </tr>\n",
       "    <tr>\n",
       "      <th>36</th>\n",
       "      <td>10002841</td>\n",
       "      <td>We will take care to ensure that the best aspe...</td>\n",
       "      <td>1</td>\n",
       "    </tr>\n",
       "    <tr>\n",
       "      <th>37</th>\n",
       "      <td>10003421</td>\n",
       "      <td>Governments should trust people to spend their...</td>\n",
       "      <td>1</td>\n",
       "    </tr>\n",
       "    <tr>\n",
       "      <th>38</th>\n",
       "      <td>10001001</td>\n",
       "      <td>There has been a surge of home-ownership, shar...</td>\n",
       "      <td>1</td>\n",
       "    </tr>\n",
       "    <tr>\n",
       "      <th>39</th>\n",
       "      <td>10003591</td>\n",
       "      <td>It will be our aim to do the opposite. In the ...</td>\n",
       "      <td>1</td>\n",
       "    </tr>\n",
       "    <tr>\n",
       "      <th>40</th>\n",
       "      <td>10003561</td>\n",
       "      <td>To fulfil their plans, they would have to rais...</td>\n",
       "      <td>1</td>\n",
       "    </tr>\n",
       "    <tr>\n",
       "      <th>41</th>\n",
       "      <td>10001841</td>\n",
       "      <td>it would become the expectation of the many. W...</td>\n",
       "      <td>1</td>\n",
       "    </tr>\n",
       "    <tr>\n",
       "      <th>42</th>\n",
       "      <td>10001801</td>\n",
       "      <td>And most tax incentives encouraged saving thro...</td>\n",
       "      <td>1</td>\n",
       "    </tr>\n",
       "    <tr>\n",
       "      <th>43</th>\n",
       "      <td>40011431</td>\n",
       "      <td>ENTERPRISE: Support growth and investment by k...</td>\n",
       "      <td>1</td>\n",
       "    </tr>\n",
       "    <tr>\n",
       "      <th>44</th>\n",
       "      <td>10003591</td>\n",
       "      <td>It will be our aim to do the opposite. In the ...</td>\n",
       "      <td>1</td>\n",
       "    </tr>\n",
       "    <tr>\n",
       "      <th>45</th>\n",
       "      <td>10001851</td>\n",
       "      <td>We achieved this historic transformation in th...</td>\n",
       "      <td>1</td>\n",
       "    </tr>\n",
       "    <tr>\n",
       "      <th>46</th>\n",
       "      <td>10006901</td>\n",
       "      <td>As a result of these reforms, millions more pe...</td>\n",
       "      <td>1</td>\n",
       "    </tr>\n",
       "    <tr>\n",
       "      <th>47</th>\n",
       "      <td>40001501</td>\n",
       "      <td>As we want small businesses to flourish, we wi...</td>\n",
       "      <td>1</td>\n",
       "    </tr>\n",
       "    <tr>\n",
       "      <th>48</th>\n",
       "      <td>10001991</td>\n",
       "      <td>Owning a direct stake in industry not only enh...</td>\n",
       "      <td>1</td>\n",
       "    </tr>\n",
       "    <tr>\n",
       "      <th>49</th>\n",
       "      <td>40001641</td>\n",
       "      <td>We will introduce sunset requirements into new...</td>\n",
       "      <td>1</td>\n",
       "    </tr>\n",
       "  </tbody>\n",
       "</table>\n",
       "</div>"
      ],
      "text/plain": [
       "         uid                                              input  label\n",
       "0   30001331  Encourage the establishment and success of co-...     -1\n",
       "1   50008451  We will raise the basic rate of income tax by ...     -1\n",
       "2   20002551  The dole queue is three times what it was in 1...     -1\n",
       "3   30000891  We will increase child benefit by Œ£3 a week f...     -1\n",
       "4   20004521  The Conservatives' taxation and benefit polici...     -1\n",
       "5   60002701  The University for Industry will be a public/p...     -1\n",
       "6   20004651  For poorer pensioners we will introduce an add...     -1\n",
       "7   20004611  The second phase of our proposals will be a re...     -1\n",
       "8   60004261  Every modern industrial country has a minimum ...     -1\n",
       "9   20004831  We do not support this discrimination based on...     -1\n",
       "10  20004861  We will establish clear criteria of eligibilit...     -1\n",
       "11  20004581  First, we will, over the first two years, impr...     -1\n",
       "12  30000851  We will provide pensioners on supplementary be...     -1\n",
       "13  20004631  We will increase the basic state retirement pe...     -1\n",
       "14  20005041  improve the provision of education for those w...     -1\n",
       "15  20004751  FAMILIES IN WORK. We will add £5 per week to t...     -1\n",
       "16  20004501  ENDING POVERTY. We can and will relieve many t...     -1\n",
       "17  20004661  This will increase the incomes of poorer pensi...     -1\n",
       "18  30000841  We will begin the abolition of the TV licence ...     -1\n",
       "19  20004571  Our proposals fall into two parts:   First, we...     -1\n",
       "20  20004541  The Alliance will tackle poverty by targeting ...     -1\n",
       "21  60003561  Gains for consumers with tough competition law...     -1\n",
       "22  20004511  Poverty in Britain is getting worse. The Conse...     -1\n",
       "23  30001021  We will pay for them by: Putting directly into...     -1\n",
       "24  30000811  Millions who are not poor regard it as a disgr...     -1\n",
       "25  40002531  Families and Tax. We believe families should b...      1\n",
       "26  40006551  These characteristics must continue, but refor...      1\n",
       "27  10005071  We will develop it further along these lines. ...      1\n",
       "28  10003411  As a party committed to the family and opposed...      1\n",
       "29  10001411  More must now be done. The next Conservative G...      1\n",
       "30  40001131  No Conservative government will jeopardise thi...      1\n",
       "31  10001741  In the last eight years, as a result of our po...      1\n",
       "32  10004331  The Manpower Services Commission would then be...      1\n",
       "33  10004351  We will increase employer representation on th...      1\n",
       "34  40002811  We will continue to raise the threshold for in...      1\n",
       "35  20003181  We will continue to judge whether industries s...      1\n",
       "36  10002841  We will take care to ensure that the best aspe...      1\n",
       "37  10003421  Governments should trust people to spend their...      1\n",
       "38  10001001  There has been a surge of home-ownership, shar...      1\n",
       "39  10003591  It will be our aim to do the opposite. In the ...      1\n",
       "40  10003561  To fulfil their plans, they would have to rais...      1\n",
       "41  10001841  it would become the expectation of the many. W...      1\n",
       "42  10001801  And most tax incentives encouraged saving thro...      1\n",
       "43  40011431  ENTERPRISE: Support growth and investment by k...      1\n",
       "44  10003591  It will be our aim to do the opposite. In the ...      1\n",
       "45  10001851  We achieved this historic transformation in th...      1\n",
       "46  10006901  As a result of these reforms, millions more pe...      1\n",
       "47  40001501  As we want small businesses to flourish, we wi...      1\n",
       "48  10001991  Owning a direct stake in industry not only enh...      1\n",
       "49  40001641  We will introduce sunset requirements into new...      1"
      ]
     },
     "execution_count": 22,
     "metadata": {},
     "output_type": "execute_result"
    }
   ],
   "source": [
    "samples = df.groupby('label').sample(25, random_state=42)[[\"uid\", \"input\", \"label\"]].reset_index(drop=True)\n",
    "samples"
   ]
  },
  {
   "cell_type": "markdown",
   "metadata": {},
   "source": [
    "Before iterating over multiple examples to code them, you should _always_ (!) compute first how much this will cost you:"
   ]
  },
  {
   "cell_type": "code",
   "execution_count": 27,
   "metadata": {},
   "outputs": [
    {
     "name": "stdout",
     "output_type": "stream",
     "text": [
      "# input tokens: 20134\n"
     ]
    }
   ],
   "source": [
    "# number of tokens in inputs\n",
    "n_input_tokens = samples.input.apply(token_counter.count_tokens).sum()\n",
    "# add token count for instructions (for each example)\n",
    "n_input_tokens += token_counter(instructions) * len(samples)\n",
    "print('# input tokens:', n_input_tokens)"
   ]
  },
  {
   "cell_type": "code",
   "execution_count": 33,
   "metadata": {},
   "outputs": [
    {
     "name": "stdout",
     "output_type": "stream",
     "text": [
      "# output tokens: 50\n"
     ]
    }
   ],
   "source": [
    "# given that we instruct the model to reply only with the category, the number of output tokens per example is 1\n",
    "n_output_tokens = len(samples)\n",
    "print('# output tokens:', n_output_tokens)"
   ]
  },
  {
   "cell_type": "markdown",
   "metadata": {},
   "source": [
    "Now we go to https://openai.com/pricing to see what's the actual pricing for using the GPT-4-turbo model.\n",
    "\n",
    "On March 24, 2024, the princing is \n",
    "\n",
    "- $10.00 per one million (1M) **input** tokens and\n",
    "- $30.00/1M **output** tokens (hence the cost-factor above)"
   ]
  },
  {
   "cell_type": "code",
   "execution_count": 31,
   "metadata": {},
   "outputs": [
    {
     "data": {
      "text/plain": [
       "2.0149"
      ]
     },
     "execution_count": 31,
     "metadata": {},
     "output_type": "execute_result"
    }
   ],
   "source": [
    "# comopute cost (see https://openai.com/pricing)\n",
    "n_input_tokens/1_000_00*10 + n_output_tokens/1_000_000*30 # dollar cents"
   ]
  },
  {
   "cell_type": "markdown",
   "metadata": {},
   "source": [
    "Let's just run the classification:"
   ]
  },
  {
   "cell_type": "code",
   "execution_count": 36,
   "metadata": {},
   "outputs": [
    {
     "data": {
      "application/vnd.jupyter.widget-view+json": {
       "model_id": "a4840dcbb84947fd8984a2747075d819",
       "version_major": 2,
       "version_minor": 0
      },
      "text/plain": [
       "  0%|          | 0/50 [00:00<?, ?it/s]"
      ]
     },
     "metadata": {},
     "output_type": "display_data"
    }
   ],
   "source": [
    "# classify: apply custom classification function to all inputs\n",
    "results = samples.input.progress_apply(classify_text)"
   ]
  },
  {
   "cell_type": "code",
   "execution_count": 40,
   "metadata": {},
   "outputs": [
    {
     "data": {
      "text/plain": [
       "input\n",
       "right      25\n",
       "left       24\n",
       "\"right\"     1\n",
       "Name: count, dtype: int64"
      ]
     },
     "execution_count": 40,
     "metadata": {},
     "output_type": "execute_result"
    }
   ],
   "source": [
    "results.value_counts()"
   ]
  },
  {
   "cell_type": "markdown",
   "metadata": {},
   "source": [
    "**_Note:_** GPT once put its classification in quotes so we need to post-process the output to get the actual classification."
   ]
  },
  {
   "cell_type": "code",
   "execution_count": 43,
   "metadata": {},
   "outputs": [],
   "source": [
    "results = results.str.replace('\"', '')"
   ]
  },
  {
   "cell_type": "markdown",
   "metadata": {},
   "source": [
    "#### Evaluate"
   ]
  },
  {
   "cell_type": "code",
   "execution_count": 44,
   "metadata": {},
   "outputs": [
    {
     "name": "stdout",
     "output_type": "stream",
     "text": [
      "              precision    recall  f1-score   support\n",
      "\n",
      "        left       1.00      0.96      0.98        25\n",
      "       right       0.96      1.00      0.98        25\n",
      "\n",
      "    accuracy                           0.98        50\n",
      "   macro avg       0.98      0.98      0.98        50\n",
      "weighted avg       0.98      0.98      0.98        50\n",
      "\n"
     ]
    }
   ],
   "source": [
    "id2label = {-1: \"left\", 1: \"right\"}\n",
    "print(classification_report(samples.label.map(id2label), results.values))"
   ]
  },
  {
   "cell_type": "markdown",
   "metadata": {},
   "source": [
    "This is really great!\n",
    "\n",
    "- (almost) perfect recall for the \"right\" (\"left\") category\n",
    "- (almost) perfet precision for the \"left\" (\"right\") category\n",
    "\n",
    "This means 25 of 25 \"right\" examples and 24 of 25 \"left\" examples were correctly classified (recall)."
   ]
  },
  {
   "cell_type": "markdown",
   "metadata": {},
   "source": [
    "### Few-shot classification "
   ]
  },
  {
   "cell_type": "markdown",
   "metadata": {},
   "source": [
    "Let's get three examples (at random) per category that are not in our sample of to-be-classified examples:"
   ]
  },
  {
   "cell_type": "code",
   "execution_count": 69,
   "metadata": {},
   "outputs": [
    {
     "data": {
      "text/html": [
       "<div>\n",
       "<style scoped>\n",
       "    .dataframe tbody tr th:only-of-type {\n",
       "        vertical-align: middle;\n",
       "    }\n",
       "\n",
       "    .dataframe tbody tr th {\n",
       "        vertical-align: top;\n",
       "    }\n",
       "\n",
       "    .dataframe thead th {\n",
       "        text-align: right;\n",
       "    }\n",
       "</style>\n",
       "<table border=\"1\" class=\"dataframe\">\n",
       "  <thead>\n",
       "    <tr style=\"text-align: right;\">\n",
       "      <th></th>\n",
       "      <th>uid</th>\n",
       "      <th>input</th>\n",
       "      <th>label</th>\n",
       "    </tr>\n",
       "  </thead>\n",
       "  <tbody>\n",
       "    <tr>\n",
       "      <th>0</th>\n",
       "      <td>30001251</td>\n",
       "      <td>Create a new Ministry of Science and Technolog...</td>\n",
       "      <td>left</td>\n",
       "    </tr>\n",
       "    <tr>\n",
       "      <th>1</th>\n",
       "      <td>20004821</td>\n",
       "      <td>YOUNG PEOPLE. The Conservatives' benefit chang...</td>\n",
       "      <td>left</td>\n",
       "    </tr>\n",
       "    <tr>\n",
       "      <th>5</th>\n",
       "      <td>40011361</td>\n",
       "      <td>Politicians whose own declared policies would ...</td>\n",
       "      <td>right</td>\n",
       "    </tr>\n",
       "    <tr>\n",
       "      <th>2</th>\n",
       "      <td>30000921</td>\n",
       "      <td>Our special Minister for the Disabled will be ...</td>\n",
       "      <td>left</td>\n",
       "    </tr>\n",
       "    <tr>\n",
       "      <th>4</th>\n",
       "      <td>40001781</td>\n",
       "      <td>The European social model is not social and no...</td>\n",
       "      <td>right</td>\n",
       "    </tr>\n",
       "    <tr>\n",
       "      <th>3</th>\n",
       "      <td>10008431</td>\n",
       "      <td>Inner Cities. The regeneration of the inner ci...</td>\n",
       "      <td>right</td>\n",
       "    </tr>\n",
       "  </tbody>\n",
       "</table>\n",
       "</div>"
      ],
      "text/plain": [
       "        uid                                              input  label\n",
       "0  30001251  Create a new Ministry of Science and Technolog...   left\n",
       "1  20004821  YOUNG PEOPLE. The Conservatives' benefit chang...   left\n",
       "5  40011361  Politicians whose own declared policies would ...  right\n",
       "2  30000921  Our special Minister for the Disabled will be ...   left\n",
       "4  40001781  The European social model is not social and no...  right\n",
       "3  10008431  Inner Cities. The regeneration of the inner ci...  right"
      ]
     },
     "execution_count": 69,
     "metadata": {},
     "output_type": "execute_result"
    }
   ],
   "source": [
    "examples = df[~df.uid.isin(samples.uid)].groupby('label').sample(3, random_state=42)[[\"uid\", \"input\", \"label\"]].reset_index(drop=True)\n",
    "# resuffle\n",
    "examples = examples.sample(frac=1.0, random_state=42)\n",
    "# convert numberic to string labels\n",
    "examples['label'] = examples['label'].map(id2label)\n",
    "examples"
   ]
  },
  {
   "cell_type": "code",
   "execution_count": 65,
   "metadata": {},
   "outputs": [],
   "source": [
    "def classify_text(text, examples: pd.DataFrame):\n",
    "    messages = [{\"role\": \"system\", \"content\": instructions}]\n",
    "    \n",
    "    for _, d in examples.iterrows():\n",
    "        messages +=  [   \n",
    "            {\"role\": \"user\", \"content\": d.input},\n",
    "            {\"role\": \"assistant\", \"content\": d.label}\n",
    "        ]\n",
    "\n",
    "    messages.append({\"role\": \"user\", \"content\": text})\n",
    "    \n",
    "    response = client.chat.completions.create(\n",
    "        model=MODEL,\n",
    "        messages=messages,\n",
    "        seed=42,\n",
    "        temperature=0.0,\n",
    "    )\n",
    "\n",
    "    results = response.choices[0].message.content\n",
    "    return results"
   ]
  },
  {
   "cell_type": "markdown",
   "metadata": {},
   "source": [
    "Before iterating over multiple examples to code them, you should _always_ (!) compute first how much this will cost you:"
   ]
  },
  {
   "cell_type": "code",
   "execution_count": 59,
   "metadata": {},
   "outputs": [
    {
     "name": "stdout",
     "output_type": "stream",
     "text": [
      "# input tokens: 20997\n"
     ]
    }
   ],
   "source": [
    "# number of tokens in inputs\n",
    "n_input_tokens = samples.input.apply(token_counter.count_tokens).sum()\n",
    "# add token count for instructions (for each example)\n",
    "n_input_tokens += token_counter(instructions) * len(samples)\n",
    "# add token counts for examples' texts and labels \n",
    "n_input_tokens += examples.input.apply(token_counter.count_tokens).sum() + len(examples)*3\n",
    "\n",
    "print('# input tokens:', n_input_tokens)"
   ]
  },
  {
   "cell_type": "code",
   "execution_count": 60,
   "metadata": {},
   "outputs": [
    {
     "name": "stdout",
     "output_type": "stream",
     "text": [
      "# output tokens: 50\n"
     ]
    }
   ],
   "source": [
    "# given that we instruct the model to reply only with the category, the number of output tokens per example is 1\n",
    "n_output_tokens = len(samples)\n",
    "print('# output tokens:', n_output_tokens)"
   ]
  },
  {
   "cell_type": "code",
   "execution_count": 61,
   "metadata": {},
   "outputs": [
    {
     "data": {
      "text/plain": [
       "2.1012"
      ]
     },
     "execution_count": 61,
     "metadata": {},
     "output_type": "execute_result"
    }
   ],
   "source": [
    "# compute cost (see https://openai.com/pricing)\n",
    "n_input_tokens/1_000_00*10 + n_output_tokens/1_000_000*30 # dollar cents"
   ]
  },
  {
   "cell_type": "markdown",
   "metadata": {},
   "source": [
    "Let's just run the classification:"
   ]
  },
  {
   "cell_type": "code",
   "execution_count": 66,
   "metadata": {},
   "outputs": [
    {
     "data": {
      "application/vnd.jupyter.widget-view+json": {
       "model_id": "347ca3b286864cf69418c51e3ae0db51",
       "version_major": 2,
       "version_minor": 0
      },
      "text/plain": [
       "  0%|          | 0/50 [00:00<?, ?it/s]"
      ]
     },
     "metadata": {},
     "output_type": "display_data"
    }
   ],
   "source": [
    "# classify: apply custom classification function to all inputs\n",
    "results = samples.input.progress_apply(classify_text, examples=examples)"
   ]
  },
  {
   "cell_type": "code",
   "execution_count": 67,
   "metadata": {},
   "outputs": [
    {
     "data": {
      "text/plain": [
       "input\n",
       "left     25\n",
       "right    25\n",
       "Name: count, dtype: int64"
      ]
     },
     "execution_count": 67,
     "metadata": {},
     "output_type": "execute_result"
    }
   ],
   "source": [
    "results.value_counts()"
   ]
  },
  {
   "cell_type": "markdown",
   "metadata": {},
   "source": [
    "#### Evaluate"
   ]
  },
  {
   "cell_type": "code",
   "execution_count": 68,
   "metadata": {},
   "outputs": [
    {
     "name": "stdout",
     "output_type": "stream",
     "text": [
      "              precision    recall  f1-score   support\n",
      "\n",
      "        left       1.00      1.00      1.00        25\n",
      "       right       1.00      1.00      1.00        25\n",
      "\n",
      "    accuracy                           1.00        50\n",
      "   macro avg       1.00      1.00      1.00        50\n",
      "weighted avg       1.00      1.00      1.00        50\n",
      "\n"
     ]
    }
   ],
   "source": [
    "print(classification_report(samples.label.map(id2label), results.values))"
   ]
  },
  {
   "cell_type": "markdown",
   "metadata": {},
   "source": [
    "So by including a few examples, we booted classification performance to 100% for both categories!\n",
    "\n",
    "This is what we should generally expect. \n",
    "\n",
    "However, the sample size (*N*=50) is very small and zero-shot performance was already very good.\n",
    "So it's fair if you object that the improvement we found might not be (statistically) significant."
   ]
  }
 ],
 "metadata": {
  "kernelspec": {
   "display_name": "llm_text_annotation",
   "language": "python",
   "name": "python3"
  },
  "language_info": {
   "codemirror_mode": {
    "name": "ipython",
    "version": 3
   },
   "file_extension": ".py",
   "mimetype": "text/x-python",
   "name": "python",
   "nbconvert_exporter": "python",
   "pygments_lexer": "ipython3",
   "version": "3.11.7"
  }
 },
 "nbformat": 4,
 "nbformat_minor": 2
}
