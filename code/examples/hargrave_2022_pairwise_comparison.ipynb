{
 "cells": [
  {
   "cell_type": "markdown",
   "metadata": {},
   "source": [
    "# Using GPT-4 turbo for pairwise comparison\n",
    "\n",
    "| Authors | Last update |\n",
    "|:------ |:----------- |\n",
    "| Hauke Licht (https://github.com/haukelicht) | 2024-03-25 |\n",
    "\n",
    "\n",
    "In this notebook, we take data collected by Hargrave and Blumenau ([2022](https://doi.org/10.1017/S0007123421000648)) to illustrate how to use GPT-4-turbo through the OpenAI chat completions API to classify texts."
   ]
  },
  {
   "cell_type": "code",
   "execution_count": 1,
   "metadata": {},
   "outputs": [],
   "source": [
    "import warnings\n",
    "warnings.filterwarnings('ignore')\n",
    "\n",
    "import os\n",
    "from openai import OpenAI\n",
    "client = OpenAI(api_key=os.getenv(\"OPENAI_API_KEY\"))\n",
    "MODEL = 'gpt-4-turbo-preview'\n",
    "\n",
    "import pandas as pd\n",
    "from tqdm.auto import tqdm\n",
    "tqdm.pandas()\n",
    "\n",
    "from sklearn.metrics import classification_report"
   ]
  },
  {
   "cell_type": "code",
   "execution_count": 2,
   "metadata": {},
   "outputs": [],
   "source": [
    "base_path = os.path.join('..', '..')\n",
    "data_path = os.path.join(base_path, 'data', 'hargrave_no_2022') \n",
    "\n",
    "fp = os.path.join(data_path, \"hargrave_no_2022_comparisons_by_style.tsv\")\n",
    "df_all = pd.read_csv(fp, sep=\"\\t\")"
   ]
  },
  {
   "cell_type": "code",
   "execution_count": 3,
   "metadata": {},
   "outputs": [
    {
     "data": {
      "text/plain": [
       "style\n",
       "Negative Emotion    119\n",
       "Fact                 98\n",
       "Complexity           97\n",
       "Positive Emotion     90\n",
       "Repetition           89\n",
       "Aggression           86\n",
       "Affect               82\n",
       "Human Narrative      73\n",
       "Name: count, dtype: int64"
      ]
     },
     "execution_count": 3,
     "metadata": {},
     "output_type": "execute_result"
    }
   ],
   "source": [
    "df_all[\"style\"].value_counts()"
   ]
  },
  {
   "cell_type": "markdown",
   "metadata": {},
   "source": [
    "Let's see what the numeric labels mean:"
   ]
  },
  {
   "cell_type": "code",
   "execution_count": 4,
   "metadata": {},
   "outputs": [
    {
     "data": {
      "text/html": [
       "<div>\n",
       "<style scoped>\n",
       "    .dataframe tbody tr th:only-of-type {\n",
       "        vertical-align: middle;\n",
       "    }\n",
       "\n",
       "    .dataframe tbody tr th {\n",
       "        vertical-align: top;\n",
       "    }\n",
       "\n",
       "    .dataframe thead th {\n",
       "        text-align: right;\n",
       "    }\n",
       "</style>\n",
       "<table border=\"1\" class=\"dataframe\">\n",
       "  <thead>\n",
       "    <tr style=\"text-align: right;\">\n",
       "      <th></th>\n",
       "      <th>comparison</th>\n",
       "      <th>comparison_label</th>\n",
       "    </tr>\n",
       "  </thead>\n",
       "  <tbody>\n",
       "    <tr>\n",
       "      <th>0</th>\n",
       "      <td>-1</td>\n",
       "      <td>text two more representative of &lt;STYLE&gt;</td>\n",
       "    </tr>\n",
       "    <tr>\n",
       "      <th>1</th>\n",
       "      <td>1</td>\n",
       "      <td>text one more representative of &lt;STYLE&gt;</td>\n",
       "    </tr>\n",
       "    <tr>\n",
       "      <th>2</th>\n",
       "      <td>0</td>\n",
       "      <td>both similarly representative of &lt;STYLE&gt;</td>\n",
       "    </tr>\n",
       "  </tbody>\n",
       "</table>\n",
       "</div>"
      ],
      "text/plain": [
       "   comparison                          comparison_label\n",
       "0          -1   text two more representative of <STYLE>\n",
       "1           1   text one more representative of <STYLE>\n",
       "2           0  both similarly representative of <STYLE>"
      ]
     },
     "execution_count": 4,
     "metadata": {},
     "output_type": "execute_result"
    }
   ],
   "source": [
    "df_all[['comparison', 'comparison_label']].drop_duplicates().reset_index(drop=True)"
   ]
  },
  {
   "cell_type": "markdown",
   "metadata": {},
   "source": [
    "Let's create a \"mapping\" of numeric label indicators to label names:"
   ]
  },
  {
   "cell_type": "code",
   "execution_count": 5,
   "metadata": {},
   "outputs": [],
   "source": [
    "id2label = {1: 'first', -1: 'second', 0: 'none'}"
   ]
  },
  {
   "cell_type": "markdown",
   "metadata": {},
   "source": [
    "## Affect/Emotional language"
   ]
  },
  {
   "cell_type": "markdown",
   "metadata": {},
   "source": [
    "Let's first focus on the \"emotionality\" comparisons: "
   ]
  },
  {
   "cell_type": "code",
   "execution_count": 6,
   "metadata": {},
   "outputs": [
    {
     "data": {
      "text/html": [
       "<div>\n",
       "<style scoped>\n",
       "    .dataframe tbody tr th:only-of-type {\n",
       "        vertical-align: middle;\n",
       "    }\n",
       "\n",
       "    .dataframe tbody tr th {\n",
       "        vertical-align: top;\n",
       "    }\n",
       "\n",
       "    .dataframe thead th {\n",
       "        text-align: right;\n",
       "    }\n",
       "</style>\n",
       "<table border=\"1\" class=\"dataframe\">\n",
       "  <thead>\n",
       "    <tr style=\"text-align: right;\">\n",
       "      <th></th>\n",
       "      <th>style</th>\n",
       "      <th>pair_id</th>\n",
       "      <th>text1_id</th>\n",
       "      <th>text2_id</th>\n",
       "      <th>text1</th>\n",
       "      <th>text2</th>\n",
       "      <th>intercoder</th>\n",
       "      <th>comparison</th>\n",
       "      <th>intensity1</th>\n",
       "      <th>intensity1_num</th>\n",
       "      <th>intensity2</th>\n",
       "      <th>intensity2_num</th>\n",
       "      <th>comparison_label</th>\n",
       "    </tr>\n",
       "  </thead>\n",
       "  <tbody>\n",
       "    <tr>\n",
       "      <th>0</th>\n",
       "      <td>Affect</td>\n",
       "      <td>05c0929cebf188730eec1d9c927d550a</td>\n",
       "      <td>d2ed8334934ee49dc9fb2d8f04f29f7e</td>\n",
       "      <td>3240fc883037f763bebe7e46351ab563</td>\n",
       "      <td>What have the families of British service pers...</td>\n",
       "      <td>I repeat the apology to the families of people...</td>\n",
       "      <td>False</td>\n",
       "      <td>-1</td>\n",
       "      <td>NaN</td>\n",
       "      <td>NaN</td>\n",
       "      <td>NaN</td>\n",
       "      <td>NaN</td>\n",
       "      <td>text two more representative of &lt;STYLE&gt;</td>\n",
       "    </tr>\n",
       "  </tbody>\n",
       "</table>\n",
       "</div>"
      ],
      "text/plain": [
       "    style                           pair_id                          text1_id  \\\n",
       "0  Affect  05c0929cebf188730eec1d9c927d550a  d2ed8334934ee49dc9fb2d8f04f29f7e   \n",
       "\n",
       "                           text2_id  \\\n",
       "0  3240fc883037f763bebe7e46351ab563   \n",
       "\n",
       "                                               text1  \\\n",
       "0  What have the families of British service pers...   \n",
       "\n",
       "                                               text2  intercoder  comparison  \\\n",
       "0  I repeat the apology to the families of people...       False          -1   \n",
       "\n",
       "   intensity1  intensity1_num  intensity2  intensity2_num  \\\n",
       "0         NaN             NaN         NaN             NaN   \n",
       "\n",
       "                          comparison_label  \n",
       "0  text two more representative of <STYLE>  "
      ]
     },
     "execution_count": 6,
     "metadata": {},
     "output_type": "execute_result"
    }
   ],
   "source": [
    "df = df_all[df_all[\"style\"] == \"Affect\"]\n",
    "df.head(1)"
   ]
  },
  {
   "cell_type": "code",
   "execution_count": 7,
   "metadata": {},
   "outputs": [],
   "source": [
    "# construct input \n",
    "def construct_input(row):\n",
    "    return f'\"\"\"{row[\"text1\"]}\"\"\"\\n\"\"\"{row[\"text2\"]}\"\"\"'\n",
    "\n",
    "df['input'] = df.apply(construct_input, axis=1).tolist()"
   ]
  },
  {
   "cell_type": "code",
   "execution_count": 8,
   "metadata": {},
   "outputs": [],
   "source": [
    "# adapt instructions from Benoit et al.'s original crowd coding instructions (see data/benoit_crowdsourced_2016/instructions/) \n",
    "instructions = \"\"\"\n",
    "Your task is to select the sentence which you believe uses more emotional language, which might be either positive or negative emotion; such as expressing criticism, praise, disapproval, pride, empathy or fear.\n",
    "\n",
    "The sentences you will be asked to compare come from parliamentary speeches in the UK *House of Commons*.\n",
    "\n",
    "The pair of sentences will be in separate lines in the input and each sentence will be wrapped in tripple quotes.\n",
    "\n",
    "Choose one of the following categories:\n",
    "\n",
    "- first: Sentence one (i.e., the sentence in the first line) uses more emotional language\n",
    "- second: Sentence two (i.e., the sentence in the second line) uses more emotional language\n",
    "- none: Both sentences use about equal amounts of emotional language\n",
    "\n",
    "Choose the \"none\" category when you are not certain that either of both sentences uses more complex language.\n",
    "\n",
    "Return only the category you choose and no further text in your response.\n",
    "\"\"\""
   ]
  },
  {
   "cell_type": "markdown",
   "metadata": {},
   "source": [
    "### Zero-shot"
   ]
  },
  {
   "cell_type": "code",
   "execution_count": 9,
   "metadata": {},
   "outputs": [],
   "source": [
    "def classify_pair(input):\n",
    "    messages = [ \n",
    "        {\"role\": \"system\", \"content\": instructions},\n",
    "        {\"role\": \"user\", \"content\": input}\n",
    "    ]\n",
    "\n",
    "    response = client.chat.completions.create(\n",
    "        model=MODEL,\n",
    "        messages=messages,\n",
    "        seed=42,\n",
    "        temperature=0.0,\n",
    "    )\n",
    "\n",
    "    results = response.choices[0].message.content\n",
    "    return results"
   ]
  },
  {
   "cell_type": "code",
   "execution_count": 10,
   "metadata": {},
   "outputs": [
    {
     "data": {
      "text/html": [
       "<div>\n",
       "<style scoped>\n",
       "    .dataframe tbody tr th:only-of-type {\n",
       "        vertical-align: middle;\n",
       "    }\n",
       "\n",
       "    .dataframe tbody tr th {\n",
       "        vertical-align: top;\n",
       "    }\n",
       "\n",
       "    .dataframe thead th {\n",
       "        text-align: right;\n",
       "    }\n",
       "</style>\n",
       "<table border=\"1\" class=\"dataframe\">\n",
       "  <thead>\n",
       "    <tr style=\"text-align: right;\">\n",
       "      <th></th>\n",
       "      <th>pair_id</th>\n",
       "      <th>input</th>\n",
       "      <th>comparison</th>\n",
       "    </tr>\n",
       "  </thead>\n",
       "  <tbody>\n",
       "    <tr>\n",
       "      <th>0</th>\n",
       "      <td>542e9f2aac7f84ee8c99fbc185482377</td>\n",
       "      <td>\"\"\"Even though adjacent councils may be of dif...</td>\n",
       "      <td>-1</td>\n",
       "    </tr>\n",
       "    <tr>\n",
       "      <th>1</th>\n",
       "      <td>d8a6d65fb2d3bda566a1299c1ccaf5f4</td>\n",
       "      <td>\"\"\"Although such trends and behaviour may disa...</td>\n",
       "      <td>-1</td>\n",
       "    </tr>\n",
       "    <tr>\n",
       "      <th>2</th>\n",
       "      <td>4d0212737762904e086a9f45e6ec125a</td>\n",
       "      <td>\"\"\"However, even allowing for the difficulties...</td>\n",
       "      <td>-1</td>\n",
       "    </tr>\n",
       "    <tr>\n",
       "      <th>3</th>\n",
       "      <td>b546655ac88f1f9db7c07630a6aa1549</td>\n",
       "      <td>\"\"\"99 B  ) on certain of the days specified un...</td>\n",
       "      <td>-1</td>\n",
       "    </tr>\n",
       "    <tr>\n",
       "      <th>4</th>\n",
       "      <td>05c0929cebf188730eec1d9c927d550a</td>\n",
       "      <td>\"\"\"What have the families of British service p...</td>\n",
       "      <td>-1</td>\n",
       "    </tr>\n",
       "    <tr>\n",
       "      <th>5</th>\n",
       "      <td>70d24421f01cc6143224ae107020c7eb</td>\n",
       "      <td>\"\"\"I am not sure that the hon  Gentleman serio...</td>\n",
       "      <td>-1</td>\n",
       "    </tr>\n",
       "    <tr>\n",
       "      <th>6</th>\n",
       "      <td>9e9b5f9916d3cb3210505f68841c5fcb</td>\n",
       "      <td>\"\"\"In the past couple of days, we have heard y...</td>\n",
       "      <td>-1</td>\n",
       "    </tr>\n",
       "    <tr>\n",
       "      <th>7</th>\n",
       "      <td>c82aca2de8c49bb7f2cce8c9a6a8ea88</td>\n",
       "      <td>\"\"\"I have raised the matter several times duri...</td>\n",
       "      <td>-1</td>\n",
       "    </tr>\n",
       "    <tr>\n",
       "      <th>8</th>\n",
       "      <td>7059c5705694dbe59ab1e7a70e76c35a</td>\n",
       "      <td>\"\"\"Conservative Members think that something i...</td>\n",
       "      <td>-1</td>\n",
       "    </tr>\n",
       "    <tr>\n",
       "      <th>9</th>\n",
       "      <td>82a031b3870e4922cd55ee56f08ed98e</td>\n",
       "      <td>\"\"\"It prompts one to ask why there are not oth...</td>\n",
       "      <td>-1</td>\n",
       "    </tr>\n",
       "    <tr>\n",
       "      <th>10</th>\n",
       "      <td>965ee317e597c12574bb359d8e78efc8</td>\n",
       "      <td>\"\"\"By the end of March, UK companies will have...</td>\n",
       "      <td>-1</td>\n",
       "    </tr>\n",
       "    <tr>\n",
       "      <th>11</th>\n",
       "      <td>10941b3f36792c4007033aed45bd379f</td>\n",
       "      <td>\"\"\"Will he join me in paying tribute to the wo...</td>\n",
       "      <td>-1</td>\n",
       "    </tr>\n",
       "    <tr>\n",
       "      <th>12</th>\n",
       "      <td>2ee4c8ef9fa1d7f266fbcbd008123bb5</td>\n",
       "      <td>\"\"\"They are not getting any money at all, but ...</td>\n",
       "      <td>-1</td>\n",
       "    </tr>\n",
       "    <tr>\n",
       "      <th>13</th>\n",
       "      <td>3610a6ed5edb2d6b3daf03f6cdc1f6cb</td>\n",
       "      <td>\"\"\"However, the world has not become good over...</td>\n",
       "      <td>-1</td>\n",
       "    </tr>\n",
       "    <tr>\n",
       "      <th>14</th>\n",
       "      <td>174efa0826c1f4e3ec67582ac85a0ec3</td>\n",
       "      <td>\"\"\"That arrangement does not include loss of e...</td>\n",
       "      <td>-1</td>\n",
       "    </tr>\n",
       "    <tr>\n",
       "      <th>15</th>\n",
       "      <td>9dfcca86ec88d32f8b1884061092fb2d</td>\n",
       "      <td>\"\"\"Can my hon  Friend confirm press reports th...</td>\n",
       "      <td>-1</td>\n",
       "    </tr>\n",
       "    <tr>\n",
       "      <th>16</th>\n",
       "      <td>cd59553b7e6a289463c76e755d735857</td>\n",
       "      <td>\"\"\"I absolutely share my hon  Friend's concern...</td>\n",
       "      <td>-1</td>\n",
       "    </tr>\n",
       "    <tr>\n",
       "      <th>17</th>\n",
       "      <td>2ab36ec7ccb28240977208f0de307ba1</td>\n",
       "      <td>\"\"\"In our report to the Government in response...</td>\n",
       "      <td>-1</td>\n",
       "    </tr>\n",
       "    <tr>\n",
       "      <th>18</th>\n",
       "      <td>ea1a9c3e0ae42547bcd70e5839cf0874</td>\n",
       "      <td>\"\"\"However, there is no basis in logic for a D...</td>\n",
       "      <td>-1</td>\n",
       "    </tr>\n",
       "    <tr>\n",
       "      <th>19</th>\n",
       "      <td>d87effff230dcf8c32d2f58f94abb3d3</td>\n",
       "      <td>\"\"\"It should also be borne in mind that consum...</td>\n",
       "      <td>-1</td>\n",
       "    </tr>\n",
       "    <tr>\n",
       "      <th>20</th>\n",
       "      <td>a658065d5b7e1601ff6bedc3cf16e330</td>\n",
       "      <td>\"\"\"The parents of Hull want their children to ...</td>\n",
       "      <td>-1</td>\n",
       "    </tr>\n",
       "    <tr>\n",
       "      <th>21</th>\n",
       "      <td>f8377e9589e491d97ffe11e2077e97b8</td>\n",
       "      <td>\"\"\"What we have seen from the Government of Sa...</td>\n",
       "      <td>-1</td>\n",
       "    </tr>\n",
       "    <tr>\n",
       "      <th>22</th>\n",
       "      <td>ac7598fc2f4e6bbad32530b43d28b597</td>\n",
       "      <td>\"\"\"Like many things, however, Government assis...</td>\n",
       "      <td>-1</td>\n",
       "    </tr>\n",
       "    <tr>\n",
       "      <th>23</th>\n",
       "      <td>4af5a68f83134690d9eb02fc76c1519c</td>\n",
       "      <td>\"\"\"New clause 7 seeks to bolster the maintenan...</td>\n",
       "      <td>-1</td>\n",
       "    </tr>\n",
       "    <tr>\n",
       "      <th>24</th>\n",
       "      <td>54a0e5ecde9dbc9e0a0f4036cd957067</td>\n",
       "      <td>\"\"\"As the Minister is aware, many important ex...</td>\n",
       "      <td>-1</td>\n",
       "    </tr>\n",
       "    <tr>\n",
       "      <th>25</th>\n",
       "      <td>bc7dc02b51d4408bd7482b28f30cd9f5</td>\n",
       "      <td>\"\"\"It is only the Conservative party that has ...</td>\n",
       "      <td>1</td>\n",
       "    </tr>\n",
       "    <tr>\n",
       "      <th>26</th>\n",
       "      <td>a512940866e29bd8cf65dc7f8ced7ff1</td>\n",
       "      <td>\"\"\"How can anyone defend that and give us the ...</td>\n",
       "      <td>1</td>\n",
       "    </tr>\n",
       "    <tr>\n",
       "      <th>27</th>\n",
       "      <td>c67adf7c28a635df2dbf495c24233555</td>\n",
       "      <td>\"\"\"The Association of Community Health Council...</td>\n",
       "      <td>1</td>\n",
       "    </tr>\n",
       "    <tr>\n",
       "      <th>28</th>\n",
       "      <td>7dcc494667547bc302808dd1bb662d03</td>\n",
       "      <td>\"\"\"As I said at the outset, the problem has al...</td>\n",
       "      <td>1</td>\n",
       "    </tr>\n",
       "    <tr>\n",
       "      <th>29</th>\n",
       "      <td>184c34d441694747b80040c01850b4d8</td>\n",
       "      <td>\"\"\"It is pretty understandable that someone wh...</td>\n",
       "      <td>1</td>\n",
       "    </tr>\n",
       "    <tr>\n",
       "      <th>30</th>\n",
       "      <td>4bf6ec2119a676859171669c46044e28</td>\n",
       "      <td>\"\"\"We still believe that it will never happen ...</td>\n",
       "      <td>1</td>\n",
       "    </tr>\n",
       "    <tr>\n",
       "      <th>31</th>\n",
       "      <td>4922388ab97beafa676c795abed9348b</td>\n",
       "      <td>\"\"\"In Yorkshire, that will mean having a stati...</td>\n",
       "      <td>1</td>\n",
       "    </tr>\n",
       "    <tr>\n",
       "      <th>32</th>\n",
       "      <td>edbbd8bb6e67b026bc2a64303cb6cd6c</td>\n",
       "      <td>\"\"\"Cuts have cost women £79 billion compared w...</td>\n",
       "      <td>1</td>\n",
       "    </tr>\n",
       "    <tr>\n",
       "      <th>33</th>\n",
       "      <td>186941e2e6739a3331f48324ec097517</td>\n",
       "      <td>\"\"\"That frustration is causing enormous damage...</td>\n",
       "      <td>1</td>\n",
       "    </tr>\n",
       "    <tr>\n",
       "      <th>34</th>\n",
       "      <td>63bf18f680830b7b7ab6fe9a6dfc88fb</td>\n",
       "      <td>\"\"\"Of course, there is always the difficulty t...</td>\n",
       "      <td>1</td>\n",
       "    </tr>\n",
       "    <tr>\n",
       "      <th>35</th>\n",
       "      <td>e443bed149a1f4176b8dbd321d3f7bc6</td>\n",
       "      <td>\"\"\"Sadly, we  have to conclude, like him, that...</td>\n",
       "      <td>1</td>\n",
       "    </tr>\n",
       "    <tr>\n",
       "      <th>36</th>\n",
       "      <td>8be1ab589d04271bda08e987ec567bdb</td>\n",
       "      <td>\"\"\"Frankly, I think it absurd for the Tory pre...</td>\n",
       "      <td>1</td>\n",
       "    </tr>\n",
       "    <tr>\n",
       "      <th>37</th>\n",
       "      <td>a7caa8bdcbf8c0ec8128d03466cbc74f</td>\n",
       "      <td>\"\"\"Perhaps they might then realise the awful w...</td>\n",
       "      <td>1</td>\n",
       "    </tr>\n",
       "    <tr>\n",
       "      <th>38</th>\n",
       "      <td>c886a49515b58193196514a76a21f540</td>\n",
       "      <td>\"\"\"I deeply regret that and apologise for the ...</td>\n",
       "      <td>1</td>\n",
       "    </tr>\n",
       "    <tr>\n",
       "      <th>39</th>\n",
       "      <td>060fce4b47c24c9d4c3ed905cb39730e</td>\n",
       "      <td>\"\"\"Sometimes, people are so keen to avoid sayi...</td>\n",
       "      <td>1</td>\n",
       "    </tr>\n",
       "    <tr>\n",
       "      <th>40</th>\n",
       "      <td>b680c334f7619d5af3097899032c4c5c</td>\n",
       "      <td>\"\"\"I could vote for it, were it not for the fa...</td>\n",
       "      <td>1</td>\n",
       "    </tr>\n",
       "    <tr>\n",
       "      <th>41</th>\n",
       "      <td>dbd7ef9a66b707a64d0ba9c7eb18a0ac</td>\n",
       "      <td>\"\"\"Many of us as Members of Parliament have he...</td>\n",
       "      <td>1</td>\n",
       "    </tr>\n",
       "    <tr>\n",
       "      <th>42</th>\n",
       "      <td>a42583294565cc210c42ddd871c686f9</td>\n",
       "      <td>\"\"\"Nobody should underestimate the distress an...</td>\n",
       "      <td>1</td>\n",
       "    </tr>\n",
       "    <tr>\n",
       "      <th>43</th>\n",
       "      <td>25ba653308a39affb0c152cc64d7685d</td>\n",
       "      <td>\"\"\"I can well understand why, when someone cau...</td>\n",
       "      <td>1</td>\n",
       "    </tr>\n",
       "    <tr>\n",
       "      <th>44</th>\n",
       "      <td>63b34d81cd296e8352431ce90d5cf3bc</td>\n",
       "      <td>\"\"\"The answer is, quite simply, \"\"Because ther...</td>\n",
       "      <td>1</td>\n",
       "    </tr>\n",
       "    <tr>\n",
       "      <th>45</th>\n",
       "      <td>cfa8b8baa6db3c278df1efa40d064dd3</td>\n",
       "      <td>\"\"\"We wait to hear the Opposition's policies -...</td>\n",
       "      <td>1</td>\n",
       "    </tr>\n",
       "    <tr>\n",
       "      <th>46</th>\n",
       "      <td>e1c8b750a182c0fab2af4be9c6d19b4e</td>\n",
       "      <td>\"\"\"I hope that hon  Members on both sides of t...</td>\n",
       "      <td>1</td>\n",
       "    </tr>\n",
       "    <tr>\n",
       "      <th>47</th>\n",
       "      <td>92af6014be52aa8edf674ba30d05a1a1</td>\n",
       "      <td>\"\"\"However, the Government must also accept th...</td>\n",
       "      <td>1</td>\n",
       "    </tr>\n",
       "    <tr>\n",
       "      <th>48</th>\n",
       "      <td>080f62010624835a08afc7680c080f49</td>\n",
       "      <td>\"\"\"I am really trying to get the message to Op...</td>\n",
       "      <td>1</td>\n",
       "    </tr>\n",
       "    <tr>\n",
       "      <th>49</th>\n",
       "      <td>ccc28bd4869bbb54f32c7dee930a39d1</td>\n",
       "      <td>\"\"\"I accept and understand that the words that...</td>\n",
       "      <td>1</td>\n",
       "    </tr>\n",
       "  </tbody>\n",
       "</table>\n",
       "</div>"
      ],
      "text/plain": [
       "                             pair_id  \\\n",
       "0   542e9f2aac7f84ee8c99fbc185482377   \n",
       "1   d8a6d65fb2d3bda566a1299c1ccaf5f4   \n",
       "2   4d0212737762904e086a9f45e6ec125a   \n",
       "3   b546655ac88f1f9db7c07630a6aa1549   \n",
       "4   05c0929cebf188730eec1d9c927d550a   \n",
       "5   70d24421f01cc6143224ae107020c7eb   \n",
       "6   9e9b5f9916d3cb3210505f68841c5fcb   \n",
       "7   c82aca2de8c49bb7f2cce8c9a6a8ea88   \n",
       "8   7059c5705694dbe59ab1e7a70e76c35a   \n",
       "9   82a031b3870e4922cd55ee56f08ed98e   \n",
       "10  965ee317e597c12574bb359d8e78efc8   \n",
       "11  10941b3f36792c4007033aed45bd379f   \n",
       "12  2ee4c8ef9fa1d7f266fbcbd008123bb5   \n",
       "13  3610a6ed5edb2d6b3daf03f6cdc1f6cb   \n",
       "14  174efa0826c1f4e3ec67582ac85a0ec3   \n",
       "15  9dfcca86ec88d32f8b1884061092fb2d   \n",
       "16  cd59553b7e6a289463c76e755d735857   \n",
       "17  2ab36ec7ccb28240977208f0de307ba1   \n",
       "18  ea1a9c3e0ae42547bcd70e5839cf0874   \n",
       "19  d87effff230dcf8c32d2f58f94abb3d3   \n",
       "20  a658065d5b7e1601ff6bedc3cf16e330   \n",
       "21  f8377e9589e491d97ffe11e2077e97b8   \n",
       "22  ac7598fc2f4e6bbad32530b43d28b597   \n",
       "23  4af5a68f83134690d9eb02fc76c1519c   \n",
       "24  54a0e5ecde9dbc9e0a0f4036cd957067   \n",
       "25  bc7dc02b51d4408bd7482b28f30cd9f5   \n",
       "26  a512940866e29bd8cf65dc7f8ced7ff1   \n",
       "27  c67adf7c28a635df2dbf495c24233555   \n",
       "28  7dcc494667547bc302808dd1bb662d03   \n",
       "29  184c34d441694747b80040c01850b4d8   \n",
       "30  4bf6ec2119a676859171669c46044e28   \n",
       "31  4922388ab97beafa676c795abed9348b   \n",
       "32  edbbd8bb6e67b026bc2a64303cb6cd6c   \n",
       "33  186941e2e6739a3331f48324ec097517   \n",
       "34  63bf18f680830b7b7ab6fe9a6dfc88fb   \n",
       "35  e443bed149a1f4176b8dbd321d3f7bc6   \n",
       "36  8be1ab589d04271bda08e987ec567bdb   \n",
       "37  a7caa8bdcbf8c0ec8128d03466cbc74f   \n",
       "38  c886a49515b58193196514a76a21f540   \n",
       "39  060fce4b47c24c9d4c3ed905cb39730e   \n",
       "40  b680c334f7619d5af3097899032c4c5c   \n",
       "41  dbd7ef9a66b707a64d0ba9c7eb18a0ac   \n",
       "42  a42583294565cc210c42ddd871c686f9   \n",
       "43  25ba653308a39affb0c152cc64d7685d   \n",
       "44  63b34d81cd296e8352431ce90d5cf3bc   \n",
       "45  cfa8b8baa6db3c278df1efa40d064dd3   \n",
       "46  e1c8b750a182c0fab2af4be9c6d19b4e   \n",
       "47  92af6014be52aa8edf674ba30d05a1a1   \n",
       "48  080f62010624835a08afc7680c080f49   \n",
       "49  ccc28bd4869bbb54f32c7dee930a39d1   \n",
       "\n",
       "                                                input  comparison  \n",
       "0   \"\"\"Even though adjacent councils may be of dif...          -1  \n",
       "1   \"\"\"Although such trends and behaviour may disa...          -1  \n",
       "2   \"\"\"However, even allowing for the difficulties...          -1  \n",
       "3   \"\"\"99 B  ) on certain of the days specified un...          -1  \n",
       "4   \"\"\"What have the families of British service p...          -1  \n",
       "5   \"\"\"I am not sure that the hon  Gentleman serio...          -1  \n",
       "6   \"\"\"In the past couple of days, we have heard y...          -1  \n",
       "7   \"\"\"I have raised the matter several times duri...          -1  \n",
       "8   \"\"\"Conservative Members think that something i...          -1  \n",
       "9   \"\"\"It prompts one to ask why there are not oth...          -1  \n",
       "10  \"\"\"By the end of March, UK companies will have...          -1  \n",
       "11  \"\"\"Will he join me in paying tribute to the wo...          -1  \n",
       "12  \"\"\"They are not getting any money at all, but ...          -1  \n",
       "13  \"\"\"However, the world has not become good over...          -1  \n",
       "14  \"\"\"That arrangement does not include loss of e...          -1  \n",
       "15  \"\"\"Can my hon  Friend confirm press reports th...          -1  \n",
       "16  \"\"\"I absolutely share my hon  Friend's concern...          -1  \n",
       "17  \"\"\"In our report to the Government in response...          -1  \n",
       "18  \"\"\"However, there is no basis in logic for a D...          -1  \n",
       "19  \"\"\"It should also be borne in mind that consum...          -1  \n",
       "20  \"\"\"The parents of Hull want their children to ...          -1  \n",
       "21  \"\"\"What we have seen from the Government of Sa...          -1  \n",
       "22  \"\"\"Like many things, however, Government assis...          -1  \n",
       "23  \"\"\"New clause 7 seeks to bolster the maintenan...          -1  \n",
       "24  \"\"\"As the Minister is aware, many important ex...          -1  \n",
       "25  \"\"\"It is only the Conservative party that has ...           1  \n",
       "26  \"\"\"How can anyone defend that and give us the ...           1  \n",
       "27  \"\"\"The Association of Community Health Council...           1  \n",
       "28  \"\"\"As I said at the outset, the problem has al...           1  \n",
       "29  \"\"\"It is pretty understandable that someone wh...           1  \n",
       "30  \"\"\"We still believe that it will never happen ...           1  \n",
       "31  \"\"\"In Yorkshire, that will mean having a stati...           1  \n",
       "32  \"\"\"Cuts have cost women £79 billion compared w...           1  \n",
       "33  \"\"\"That frustration is causing enormous damage...           1  \n",
       "34  \"\"\"Of course, there is always the difficulty t...           1  \n",
       "35  \"\"\"Sadly, we  have to conclude, like him, that...           1  \n",
       "36  \"\"\"Frankly, I think it absurd for the Tory pre...           1  \n",
       "37  \"\"\"Perhaps they might then realise the awful w...           1  \n",
       "38  \"\"\"I deeply regret that and apologise for the ...           1  \n",
       "39  \"\"\"Sometimes, people are so keen to avoid sayi...           1  \n",
       "40  \"\"\"I could vote for it, were it not for the fa...           1  \n",
       "41  \"\"\"Many of us as Members of Parliament have he...           1  \n",
       "42  \"\"\"Nobody should underestimate the distress an...           1  \n",
       "43  \"\"\"I can well understand why, when someone cau...           1  \n",
       "44  \"\"\"The answer is, quite simply, \"\"Because ther...           1  \n",
       "45  \"\"\"We wait to hear the Opposition's policies -...           1  \n",
       "46  \"\"\"I hope that hon  Members on both sides of t...           1  \n",
       "47  \"\"\"However, the Government must also accept th...           1  \n",
       "48  \"\"\"I am really trying to get the message to Op...           1  \n",
       "49  \"\"\"I accept and understand that the words that...           1  "
      ]
     },
     "execution_count": 10,
     "metadata": {},
     "output_type": "execute_result"
    }
   ],
   "source": [
    "# take a sample of 25 texts from each label class\n",
    "samples = df[df.comparison != 0].groupby('comparison').sample(25, random_state=42)[[\"pair_id\", \"input\", \"comparison\"]].reset_index(drop=True)\n",
    "samples"
   ]
  },
  {
   "cell_type": "code",
   "execution_count": 11,
   "metadata": {},
   "outputs": [
    {
     "name": "stdout",
     "output_type": "stream",
     "text": [
      "LABLE: second\n",
      "CLASSIFICATION: second\n"
     ]
    }
   ],
   "source": [
    "# test\n",
    "i = 0\n",
    "print('LABLE:', id2label[samples['comparison'][i]])\n",
    "print('CLASSIFICATION:' , classify_pair(samples['input'][i]))"
   ]
  },
  {
   "cell_type": "code",
   "execution_count": 12,
   "metadata": {},
   "outputs": [
    {
     "data": {
      "application/vnd.jupyter.widget-view+json": {
       "model_id": "e8854daf568545ffad4c2f1d728c23fe",
       "version_major": 2,
       "version_minor": 0
      },
      "text/plain": [
       "  0%|          | 0/50 [00:00<?, ?it/s]"
      ]
     },
     "metadata": {},
     "output_type": "display_data"
    }
   ],
   "source": [
    "results = samples.input.progress_apply(classify_pair)"
   ]
  },
  {
   "cell_type": "code",
   "execution_count": null,
   "metadata": {},
   "outputs": [],
   "source": [
    "# evaluate: compute performance metrics\n",
    "print(classification_report(samples.comparison.map(id2label), results.values, labels=[\"first\", \"second\"]))"
   ]
  },
  {
   "cell_type": "markdown",
   "metadata": {},
   "source": [
    "### Few-shot"
   ]
  },
  {
   "cell_type": "code",
   "execution_count": null,
   "metadata": {},
   "outputs": [],
   "source": [
    "examples = df[~df.pair_id.isin(samples.pair_id)].groupby('comparison').sample(2, random_state=42)[[\"pair_id\", \"input\", \"comparison\"]].reset_index(drop=True)\n",
    "# resuffle\n",
    "examples = examples.sample(frac=1.0, random_state=42)\n",
    "# convert numberic to string labels\n",
    "examples['label'] = examples['comparison'].map(id2label)\n",
    "\n",
    "examples"
   ]
  },
  {
   "cell_type": "code",
   "execution_count": null,
   "metadata": {},
   "outputs": [],
   "source": [
    "def classify_pair(input, examples: pd.DataFrame):\n",
    "    messages = [{\"role\": \"system\", \"content\": instructions}]\n",
    "    \n",
    "    for _, d in examples.iterrows():\n",
    "        messages +=  [   \n",
    "            {\"role\": \"user\", \"content\": d.input},\n",
    "            {\"role\": \"assistant\", \"content\": d.label}\n",
    "        ]\n",
    "\n",
    "    messages.append({\"role\": \"user\", \"content\": input})\n",
    "    \n",
    "    response = client.chat.completions.create(\n",
    "        model=MODEL,\n",
    "        messages=messages,\n",
    "        seed=42,\n",
    "        temperature=0.0,\n",
    "    )\n",
    "\n",
    "    results = response.choices[0].message.content\n",
    "    return results"
   ]
  },
  {
   "cell_type": "code",
   "execution_count": null,
   "metadata": {},
   "outputs": [],
   "source": [
    "results_fs = samples.input.progress_apply(classify_pair, examples=examples)"
   ]
  },
  {
   "cell_type": "code",
   "execution_count": null,
   "metadata": {},
   "outputs": [],
   "source": [
    "# evaluate: compute performance metrics\n",
    "print(classification_report(samples.comparison.map(id2label), results_fs.values, labels=[\"first\", \"second\"]))"
   ]
  },
  {
   "cell_type": "markdown",
   "metadata": {},
   "source": [
    "**_Note:_** some gain relative to zero-shot baseline"
   ]
  },
  {
   "cell_type": "markdown",
   "metadata": {},
   "source": [
    "## Complexity"
   ]
  },
  {
   "cell_type": "code",
   "execution_count": null,
   "metadata": {},
   "outputs": [],
   "source": [
    "df = df_all[df_all[\"style\"] == \"Complexity\"]"
   ]
  },
  {
   "cell_type": "markdown",
   "metadata": {},
   "source": [
    "With pairwise data, its also ueful to \"augment\" the labeled data by reversing airs order and adapting the comparison label accordingly."
   ]
  },
  {
   "cell_type": "code",
   "execution_count": null,
   "metadata": {},
   "outputs": [],
   "source": [
    "# construct input \n",
    "def construct_input(row, reversed=False) -> str:\n",
    "    out = f'\"\"\"{row[\"text2\"]}\"\"\"\\n\"\"\"{row[\"text1\"]}\"\"\"' if reversed else f'\"\"\"{row[\"text1\"]}\"\"\"\\n\"\"\"{row[\"text2\"]}\"\"\"'\n",
    "    return out\n",
    "\n",
    "df.loc[:,'input'] = df.apply(construct_input, axis=1).tolist()\n",
    "df.loc[:,'input_reversed'] = df.apply(construct_input, reversed=True, axis=1).tolist()"
   ]
  },
  {
   "cell_type": "code",
   "execution_count": null,
   "metadata": {},
   "outputs": [],
   "source": [
    "# adapt instructions from Benoit et al.'s original crowd coding instructions (see data/benoit_crowdsourced_2016/instructions/) \n",
    "instructions = \"\"\"\n",
    "You will be presented with a pair of sentences. The pair of sentences will be in separate lines in the input and each sentence will be wrapped in tripple quotes.\n",
    "\n",
    "Your task is to judge which of the two sentences (if any) uses more complex language, where complexity is defined as the use of elaborate and sophisticated language that is challenging to read and understand.\n",
    "\n",
    "Choose one of the following categories:\n",
    "\n",
    "- first: Sentence one (i.e., the sentence in the first line) more complex language\n",
    "- second: Sentence two (i.e., the sentence in the second line) more complex language\n",
    "- none: Both sentences use about equally complex language\n",
    "\n",
    "Choose the \"none\" category when you are not certain that either of both sentences uses more complex language.\n",
    "\n",
    "Return only the category you choose and no further text in your response.\n",
    "\"\"\""
   ]
  },
  {
   "cell_type": "code",
   "execution_count": null,
   "metadata": {},
   "outputs": [],
   "source": [
    "def classify_pair(input):\n",
    "    messages = [ \n",
    "        {\"role\": \"system\", \"content\": instructions},\n",
    "        {\"role\": \"user\", \"content\": input}\n",
    "    ]\n",
    "\n",
    "    response = client.chat.completions.create(\n",
    "        model=MODEL,\n",
    "        messages=messages,\n",
    "        seed=42,\n",
    "        temperature=0.0,\n",
    "    )\n",
    "\n",
    "    results = response.choices[0].message.content\n",
    "    return results"
   ]
  },
  {
   "cell_type": "code",
   "execution_count": null,
   "metadata": {},
   "outputs": [],
   "source": [
    "# take a sample of 10 texts from each label class\n",
    "samples = df.groupby('comparison').sample(10, random_state=42)[[\"pair_id\", \"input\", \"input_reversed\", \"comparison\"]].reset_index(drop=True)"
   ]
  },
  {
   "cell_type": "code",
   "execution_count": null,
   "metadata": {},
   "outputs": [],
   "source": [
    "# test\n",
    "i = 0\n",
    "print('LABEL:', id2label[samples['comparison'][i]])\n",
    "print('CLASSIFICATION:', classify_pair(samples['input'][i]))\n",
    "print('CLASSIFICATION (reversed):', classify_pair(samples['input_reversed'][i]))"
   ]
  },
  {
   "cell_type": "code",
   "execution_count": null,
   "metadata": {},
   "outputs": [],
   "source": [
    "results = samples.input.progress_apply(classify_pair)"
   ]
  },
  {
   "cell_type": "code",
   "execution_count": null,
   "metadata": {},
   "outputs": [],
   "source": [
    "# evaluate: compute performance metrics\n",
    "print(classification_report(samples.comparison.map(id2label), results.values))"
   ]
  },
  {
   "cell_type": "code",
   "execution_count": null,
   "metadata": {},
   "outputs": [],
   "source": [
    "results_reversed = samples.input_reversed.progress_apply(classify_pair)"
   ]
  },
  {
   "cell_type": "code",
   "execution_count": null,
   "metadata": {},
   "outputs": [],
   "source": [
    "reversed_recode_map = {\"first\": \"second\", \"second\": \"first\", \"none\": \"none\"}\n",
    "\n",
    "tmp = pd.DataFrame([results, results_reversed]).T\n",
    "tmp.columns = [\"forward\", \"backwards\"]\n",
    "tmp[\"backwards\"] = tmp.backwards.map(reversed_recode_map)\n",
    "# subset to cases where the classification differs if sentences are swapped\n",
    "tmp[tmp.forward != tmp.backwards]"
   ]
  },
  {
   "cell_type": "markdown",
   "metadata": {},
   "source": [
    "As the above table shows, there are a few cases where swaping the order of sentences in a pair changes the classification.\n",
    "This indicates that the classification is not very confident and we can use this information to recode them into the \"none\" category:"
   ]
  },
  {
   "cell_type": "code",
   "execution_count": null,
   "metadata": {},
   "outputs": [],
   "source": [
    "results_edited = results.copy()\n",
    "# let's update the classifications for those where it depends on the order of the sentences in the pair\n",
    "idxs = tmp[tmp.forward != tmp.backwards].index\n",
    "results_edited[idxs] = \"none\"\n",
    "\n",
    "# recompute the performance metrics\n",
    "print(classification_report(samples.comparison.map(id2label), results_edited.values))\n",
    "# note: creates slight improvements (but with these few examples, it's hard to say if this is a generalizable pattern)"
   ]
  },
  {
   "cell_type": "markdown",
   "metadata": {},
   "source": [
    "This simple (although pricy) trick increases classification performance a little."
   ]
  }
 ],
 "metadata": {
  "kernelspec": {
   "display_name": "llm_text_annotation",
   "language": "python",
   "name": "python3"
  },
  "language_info": {
   "codemirror_mode": {
    "name": "ipython",
    "version": 3
   },
   "file_extension": ".py",
   "mimetype": "text/x-python",
   "name": "python",
   "nbconvert_exporter": "python",
   "pygments_lexer": "ipython3",
   "version": "3.11.7"
  }
 },
 "nbformat": 4,
 "nbformat_minor": 2
}
