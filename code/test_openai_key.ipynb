{
 "cells": [
  {
   "cell_type": "markdown",
   "metadata": {},
   "source": [
    "# Test that you can access the OpenAI API through python\n",
    "\n",
    "| Authors | Last update |\n",
    "|:------ |:----------- |\n",
    "| Hauke Licht (https://github.com/haukelicht) | 2024-02-14 |"
   ]
  },
  {
   "cell_type": "markdown",
   "metadata": {},
   "source": [
    "### Setup"
   ]
  },
  {
   "cell_type": "code",
   "execution_count": 2,
   "metadata": {},
   "outputs": [
    {
     "name": "stdout",
     "output_type": "stream",
     "text": [
      "openai version: 1.12.0\n"
     ]
    }
   ],
   "source": [
    "import os\n",
    "import openai\n",
    "print(\"openai version:\", openai.__version__) # should be 1.12.0\n",
    "from openai import OpenAI\n",
    "\n",
    "SEED = 42"
   ]
  },
  {
   "cell_type": "code",
   "execution_count": 5,
   "metadata": {},
   "outputs": [],
   "source": [
    "# access the environment variable OPENAI_KEY and set it as the API key\n",
    "client = OpenAI(\n",
    "  api_key=os.environ[\"OPENAI_API_KEY\"],  # this is also the default, it can be omitted\n",
    ")"
   ]
  },
  {
   "cell_type": "markdown",
   "metadata": {},
   "source": [
    "## Tests"
   ]
  },
  {
   "cell_type": "markdown",
   "metadata": {},
   "source": [
    "### GPT-3 based text generations models"
   ]
  },
  {
   "cell_type": "code",
   "execution_count": 6,
   "metadata": {},
   "outputs": [
    {
     "name": "stdout",
     "output_type": "stream",
     "text": [
      "The API key is working\n"
     ]
    }
   ],
   "source": [
    "# make a test query to the GPT-3 API to ensure that the API key is working\n",
    "try:\n",
    "    completion = client.completions.create(model=\"davinci-002\", prompt=\"Once upon a time\", max_tokens=5)\n",
    "    completion.choices[0].text\n",
    "except Exception as e:\n",
    "    print(\"The API key is not working\")\n",
    "    print(f\"An error occurred: {e}\")\n",
    "else:\n",
    "    print(\"The API key is working\")"
   ]
  },
  {
   "cell_type": "markdown",
   "metadata": {},
   "source": [
    "### Chat completion models"
   ]
  },
  {
   "cell_type": "code",
   "execution_count": 7,
   "metadata": {},
   "outputs": [],
   "source": [
    "chat_template=[\n",
    "    {\"role\": \"system\", \"content\": \"You are a helpful assistant.\"},\n",
    "    {\"role\": \"user\", \"content\": \"\"}\n",
    "]\n",
    "\n",
    "# Create a prompt for the chat model\n",
    "chat_template[-1][\"content\"] = \"Hello, who won the Nobel Prize in Physics in 2021?\""
   ]
  },
  {
   "cell_type": "markdown",
   "metadata": {},
   "source": [
    "#### GPT-3.5-turbo"
   ]
  },
  {
   "cell_type": "code",
   "execution_count": 8,
   "metadata": {},
   "outputs": [
    {
     "name": "stdout",
     "output_type": "stream",
     "text": [
      "The API key is working! response: 'The 2021 Nobel'\n"
     ]
    }
   ],
   "source": [
    "try:\n",
    "    # Make a request to the GPT-3.5-turbo chat completions endpoint\n",
    "    response = client.chat.completions.create(\n",
    "        model=\"gpt-3.5-turbo\",\n",
    "        messages=chat_template, \n",
    "        max_tokens=5,\n",
    "        seed=SEED\n",
    "    )\n",
    "    \n",
    "except Exception as e:\n",
    "    print(\"The API key is not working\")\n",
    "    print(f\"An error occurred: {e}\")\n",
    "else:\n",
    "    print(f\"The API key is working! response: '{response.choices[-1].message.content}'\")"
   ]
  },
  {
   "cell_type": "markdown",
   "metadata": {},
   "source": [
    "#### GPT-4\n",
    "\n",
    "**_Note:_** If you do not have an OpenAI *Plus* account, you cannot use GPT-4 as of writing this notebook (Feb 2024). In this case, the code below will print\n",
    "\n",
    "```\n",
    "The API key is not working\n",
    "An error occurred: ...\n",
    "```"
   ]
  },
  {
   "cell_type": "code",
   "execution_count": 9,
   "metadata": {},
   "outputs": [
    {
     "name": "stdout",
     "output_type": "stream",
     "text": [
      "The API key is working! response: 'The 2021 Nobel'\n"
     ]
    }
   ],
   "source": [
    "try:\n",
    "    # Make a request to the GPT-3.5-turbo chat completions endpoint\n",
    "    response = client.chat.completions.create(\n",
    "        model=\"gpt-4\",\n",
    "        messages=chat_template, \n",
    "        max_tokens=5,\n",
    "        seed=SEED\n",
    "    )\n",
    "    \n",
    "except Exception as e:\n",
    "    print(\"The API key is not working\")\n",
    "    print(f\"An error occurred: {e}\")\n",
    "else:\n",
    "    print(f\"The API key is working! response: '{response.choices[-1].message.content}'\")"
   ]
  }
 ],
 "metadata": {
  "kernelspec": {
   "display_name": "llm_text_annotation",
   "language": "python",
   "name": "python3"
  },
  "language_info": {
   "codemirror_mode": {
    "name": "ipython",
    "version": 3
   },
   "file_extension": ".py",
   "mimetype": "text/x-python",
   "name": "python",
   "nbconvert_exporter": "python",
   "pygments_lexer": "ipython3",
   "version": "3.11.7"
  }
 },
 "nbformat": 4,
 "nbformat_minor": 2
}
