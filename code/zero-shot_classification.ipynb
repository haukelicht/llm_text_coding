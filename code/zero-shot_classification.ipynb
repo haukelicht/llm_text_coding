{
 "cells": [
  {
   "cell_type": "markdown",
   "id": "025017f5",
   "metadata": {},
   "source": [
    "# Zero-shot text classification with OpenAI's GPT models\n",
    "\n",
    "This notebook illustrates how to use different GPT models provided by OpenAI for text classification."
   ]
  },
  {
   "cell_type": "code",
   "execution_count": 1,
   "id": "da313a2e",
   "metadata": {},
   "outputs": [],
   "source": [
    "import os\n",
    "from openai import OpenAI\n",
    "\n",
    "import re"
   ]
  },
  {
   "cell_type": "code",
   "execution_count": 2,
   "id": "86883713",
   "metadata": {},
   "outputs": [],
   "source": [
    "client = OpenAI(api_key=os.environ.get(\"OPENAI_API_KEY\"))"
   ]
  },
  {
   "cell_type": "markdown",
   "id": "b3e11918",
   "metadata": {},
   "source": [
    "## Define the task\n",
    "\n",
    "In this example, we adapt the instruction for one of the tweet classification tasks examined in Gilardi et al. ([2023](https://www.pnas.org/doi/10.1073/pnas.2305016120)) \"ChatGPT outperforms crowd workers for text-annotation tasks\"\n",
    "\n",
    "- see [this README file](https://github.com/haukelicht/llm_text_coding/data/gilardi_chatgpt_2023/README.md) for a description of the data and tasks covered in the paper\n",
    "- see [this file](https://github.com/haukelicht/llm_text_coding/data/gilardi_chatgpt_2023/instructions.md) for a copy of their original task instructions"
   ]
  },
  {
   "cell_type": "code",
   "execution_count": 3,
   "id": "86c19a4e",
   "metadata": {},
   "outputs": [],
   "source": [
    "instructions = \"\"\"\n",
    "For each tweet in the sample, follow these instructions:\n",
    "\n",
    "1. Carefully read the text of the tweet, paying close attention to details.\n",
    "2. Classify the tweet as either relevant (1) or irrelevant (0)\n",
    "\"\"\"\n",
    "\n",
    "categories = [\"Relevant\", \"Irrelevant\"]\n",
    "\n",
    "defintions = \"\"\"\n",
    "Tweets should be coded as RELEVANT when they directly relate to content moderation, as defined above. This includes tweets that discuss: social media platforms’ content moderation rules and practices, governments’ regulation of online content moderation, and/or mild forms of content moderation like flagging.\n",
    "Tweets should be coded as IRRELEVANT if they do not refer to content moderation, as defined above, or if they are themselves examples of moderated content. This would include, for example, a Tweet by Donald Trump that Twitter has labeled as “disputed”, a tweet claiming that something is false, or a tweet containing sensitive content. Such tweets might be subject to content moderation, but are not discussing content moderation. Therefore, they should be coded as irrelevant for our purposes.\n",
    "\"\"\""
   ]
  },
  {
   "cell_type": "markdown",
   "id": "d0acb2b5",
   "metadata": {},
   "source": [
    "## Example with text generation model"
   ]
  },
  {
   "cell_type": "code",
   "execution_count": 4,
   "id": "fee387b7",
   "metadata": {},
   "outputs": [],
   "source": [
    "\n",
    "text = \"@connybush Sorry hun, Ive removed the tags on IG d person handling my account thought you are my friend dats why u were tagged on both posts.\"\n",
    "\n",
    "# clean the text \n",
    "text = re.sub(r'\\s+', ' ', text).strip()\n",
    "\n",
    "prompt = f\"Classify the following text into one of the given categories: {categories}\\n{defintions}\\nOnly include the selected category in your response and no further text.\\n\\nText: {text}\\n\\nClassification:\""
   ]
  },
  {
   "cell_type": "code",
   "execution_count": 5,
   "id": "b8a5a43c",
   "metadata": {},
   "outputs": [
    {
     "name": "stdout",
     "output_type": "stream",
     "text": [
      "Classify the following text into one of the given categories: ['Relevant', 'Irrelevant']\n",
      "\n",
      "Tweets should be coded as RELEVANT when they directly relate to content moderation, as defined above. This includes tweets that discuss: social media platforms’ content moderation rules and practices, governments’ regulation of online content moderation, and/or mild forms of content moderation like flagging.\n",
      "Tweets should be coded as IRRELEVANT if they do not refer to content moderation, as defined above, or if they are themselves examples of moderated content. This would include, for example, a Tweet by Donald Trump that Twitter has labeled as “disputed”, a tweet claiming that something is false, or a tweet containing sensitive content. Such tweets might be subject to content moderation, but are not discussing content moderation. Therefore, they should be coded as irrelevant for our purposes.\n",
      "\n",
      "Only include the selected category in your response and no further text.\n",
      "\n",
      "Text: @connybush Sorry hun, Ive removed the tags on IG d person handling my account thought you are my friend dats why u were tagged on both posts.\n",
      "\n",
      "Classification:\n"
     ]
    }
   ],
   "source": [
    "print(prompt)"
   ]
  },
  {
   "cell_type": "markdown",
   "id": "b68be6a1",
   "metadata": {},
   "source": [
    "### Make the API Call"
   ]
  },
  {
   "cell_type": "code",
   "execution_count": 14,
   "id": "abf5941c",
   "metadata": {},
   "outputs": [],
   "source": [
    "response = client.completions.create(\n",
    "  model=\"davinci-002\",\n",
    "  prompt=prompt,\n",
    "  max_tokens=2,\n",
    "  top_p=1,\n",
    "  temperature=0.0,\n",
    "  seed=42,\n",
    "  frequency_penalty=0,\n",
    "  presence_penalty=0\n",
    ")"
   ]
  },
  {
   "cell_type": "markdown",
   "id": "a56fd9ad",
   "metadata": {},
   "source": [
    "### Parse the result"
   ]
  },
  {
   "cell_type": "code",
   "execution_count": 15,
   "id": "03111cdf",
   "metadata": {},
   "outputs": [
    {
     "data": {
      "text/plain": [
       "'Relevant'"
      ]
     },
     "execution_count": 15,
     "metadata": {},
     "output_type": "execute_result"
    }
   ],
   "source": [
    "result = response.choices[0].text.strip()\n",
    "result"
   ]
  },
  {
   "cell_type": "markdown",
   "id": "b96d2c9a",
   "metadata": {},
   "source": [
    "### Iterate over several examples"
   ]
  },
  {
   "cell_type": "code",
   "execution_count": 16,
   "id": "2b2d5dcc",
   "metadata": {},
   "outputs": [],
   "source": [
    "def classify_tweet(text):\n",
    "\n",
    "  # clean the text \n",
    "  text = re.sub(r'\\s+', ' ', text).strip()\n",
    "\n",
    "  # construct the prompt\n",
    "  prompt = f\"Classify the following text into one of the given categories: {categories}\\n{defintions}\\nOnly include the selected category in your response and no further text.\\n\\nText: {text}\\n\\nClassification:\"\n",
    "  \n",
    "  response = client.completions.create(\n",
    "    model=\"davinci-002\",\n",
    "    prompt=prompt,\n",
    "    max_tokens=2,\n",
    "    top_p=1,\n",
    "    temperature=0.0,\n",
    "    seed=42,\n",
    "    frequency_penalty=0,\n",
    "    presence_penalty=0\n",
    "  )\n",
    "  \n",
    "  result = response.choices[0].text.strip()\n",
    "  \n",
    "  return result"
   ]
  },
  {
   "cell_type": "code",
   "execution_count": 10,
   "id": "af809feb",
   "metadata": {},
   "outputs": [],
   "source": [
    "texts = [\n",
    "    # negative examples (\"irrelevant\")\n",
    "    \"\\\"Turns out Mike Bloomberg is exactly what Elizabeth Warren needed to break through in the 2020 Democratic primary. And he’s not just a foil for her on the campaign trail — this is something she believes in, and it shows.\\\" https://t.co/1SyaHXrZlO\",\n",
    "    \"@blackhat___05 ye raha new user name change kiya kamine ne😡🗡️😡🗡️😡🗡️😡 karo abhi FNfollow reopt aur block\",\n",
    "    \"The Kid!\\n \\nRETWEET for a chance at a @RawlingsSports baseball signed by Ken Griffey Jr. and tune in to #Junior tonight at 8pm ET/5pm PT on MLB Network.\\n \\nRules: https://t.co/MdkXLh1CdN | NoPurNec, US 18+, Ends 6/22 https://t.co/8Xw0HpHz2G\",\n",
    "    \"TW / gore \\n\\nif you come across an account and want to block them, make sure to cover the bottom half of your screen. the gore is normally at the bottom of the screen. again, stay safe, and take precaution\",\n",
    "    \"@Godlesswh_re Blocked.  Is this another Nick account?\",\n",
    "    # positive examples (\"relevant\")\n",
    "    \"Twitter we want you to suspend Marcon's account.\\n#twitterSuspendMacronAccount #TwitterSuspendMarcon @verified @Twitter @TwitterSupport\",\n",
    "    \"Twitter needs to permanently suspend @realDonaldTrump account.  Who's with me?\",\n",
    "    \"Toei is one of the most active reporters of content on Youtube and everything runs through an auto filter. Today, Toei dropped a ridiculous volume of their own series onto an official Youtube channel and GOT BANNED AND REPORTED BY THEMSELVES, TOEI.\",\n",
    "    \"Marsha Blackburn: We Are Looking at Antitrust Laws and Section 230 on Tech Censorship https://t.co/lsOWzD0Yri\",\n",
    "    \"#Facebook has banned the iconic photograph of a #Soviet solider waving the #USSR flag over the #Reichstag in May 1945. The social network claims the image violates its community guidelines for dangerous people and organizations...\\n\\nMORE: https://t.co/arpDN9Ss0P https://t.co/KGtGwE4D5J\"\n",
    "]"
   ]
  },
  {
   "cell_type": "code",
   "execution_count": 17,
   "id": "6366b76c",
   "metadata": {},
   "outputs": [],
   "source": [
    "classifications = [classify_tweet(text) for text in texts]"
   ]
  },
  {
   "cell_type": "code",
   "execution_count": 18,
   "id": "ca14bf4f",
   "metadata": {},
   "outputs": [
    {
     "data": {
      "text/plain": [
       "['Relevant',\n",
       " 'Relevant',\n",
       " 'Relevant',\n",
       " 'Relevant',\n",
       " 'RELEV',\n",
       " 'Relevant',\n",
       " 'Relevant',\n",
       " 'Relevant',\n",
       " 'Relevant',\n",
       " 'Relevant']"
      ]
     },
     "execution_count": 18,
     "metadata": {},
     "output_type": "execute_result"
    }
   ],
   "source": [
    "classifications"
   ]
  },
  {
   "cell_type": "markdown",
   "id": "7c5f1691",
   "metadata": {},
   "source": [
    "This doesn't look great =(\n",
    "\n",
    "Let's try GPT 3.5 turbo and GPT 4 instead 👇"
   ]
  },
  {
   "cell_type": "markdown",
   "id": "9773717a",
   "metadata": {},
   "source": [
    "## With ChatGPT"
   ]
  },
  {
   "cell_type": "code",
   "execution_count": 32,
   "id": "7fb21f0c",
   "metadata": {},
   "outputs": [],
   "source": [
    "def classify_tweet(text, model=\"gpt-3.5-turbo\"):\n",
    "\n",
    "  # clean the text \n",
    "  text = re.sub(r'\\s+', ' ', text).strip()\n",
    "\n",
    "  # construct input\n",
    "\n",
    "  messages = [\n",
    "    # system prompt\n",
    "    {\"role\": \"system\", \"content\": f\"Classify the following text into one of the given categories: {categories}\\n{defintions}\\nOnly include the selected category in your response and no further text.\"},\n",
    "    # user input\n",
    "    {\"role\": \"user\", \"content\": text},\n",
    "  ]\n",
    "\n",
    "  response = client.chat.completions.create(\n",
    "    model=model,\n",
    "    messages=messages,\n",
    "    temperature=0.0,\n",
    "    seed=42,\n",
    "    frequency_penalty=0,\n",
    "    presence_penalty=0\n",
    "  )\n",
    "  \n",
    "  result = response.choices[0].message.content\n",
    "  \n",
    "  return result\n",
    "\n"
   ]
  },
  {
   "cell_type": "markdown",
   "id": "c6788aed",
   "metadata": {},
   "source": [
    "### GPT 3.5 turbo"
   ]
  },
  {
   "cell_type": "code",
   "execution_count": 31,
   "id": "6bee84cd",
   "metadata": {},
   "outputs": [
    {
     "data": {
      "text/plain": [
       "['Irrelevant',\n",
       " 'Irrelevant',\n",
       " 'Irrelevant',\n",
       " 'Irrelevant',\n",
       " 'Irrelevant',\n",
       " 'Relevant',\n",
       " 'Relevant',\n",
       " 'Irrelevant',\n",
       " 'Relevant',\n",
       " 'Relevant']"
      ]
     },
     "execution_count": 31,
     "metadata": {},
     "output_type": "execute_result"
    }
   ],
   "source": [
    "classifications = [classify_tweet(text) for text in texts]\n",
    "classifications"
   ]
  },
  {
   "cell_type": "markdown",
   "id": "9d1bb962",
   "metadata": {},
   "source": [
    "This looks already much better! 🥳\n",
    "\n",
    "Performance: \n",
    "\n",
    "- 9 of 10 examples classified correctly (accuracy = 90%)\n",
    "- 4 of 5 positive examples classified correctly (recall = 80%)\n",
    "- 4 of 4 poisitve classifictions correct (precision = 100%)\n",
    "- F1 score = 88.9%"
   ]
  },
  {
   "cell_type": "markdown",
   "id": "87599b54",
   "metadata": {},
   "source": [
    "### GPT 4"
   ]
  },
  {
   "cell_type": "code",
   "execution_count": 34,
   "id": "91749508",
   "metadata": {},
   "outputs": [
    {
     "data": {
      "text/plain": [
       "['Irrelevant',\n",
       " 'Irrelevant',\n",
       " 'Irrelevant',\n",
       " 'Relevant',\n",
       " 'Irrelevant',\n",
       " 'Irrelevant',\n",
       " 'Irrelevant',\n",
       " 'Relevant',\n",
       " 'Relevant',\n",
       " 'Relevant']"
      ]
     },
     "execution_count": 34,
     "metadata": {},
     "output_type": "execute_result"
    }
   ],
   "source": [
    "classifications_gpt4 = [classify_tweet(text, model='gpt-4') for text in texts]\n",
    "classifications_gpt4"
   ]
  },
  {
   "cell_type": "markdown",
   "id": "81bf76d3",
   "metadata": {},
   "source": [
    "## Multiple inputs per request\n",
    "\n",
    "In theory, we can also combine several texts in one user message.\n",
    "\n",
    "But as demonstrated below, this can cause problems, because classifications will depend on the order of texts in the input."
   ]
  },
  {
   "cell_type": "code",
   "execution_count": 84,
   "id": "f86e7b3a",
   "metadata": {},
   "outputs": [],
   "source": [
    "from typing import List\n",
    "\n",
    "def classify_tweets(texts: List[str], model=\"gpt-3.5-turbo\"):\n",
    "\n",
    "  # clean the text \n",
    "  texts = [re.sub(r'\\s+', ' ', text).strip() for text in texts]\n",
    "\n",
    "  # construct input\n",
    "\n",
    "  messages = [\n",
    "    # system prompt (modified to handle multiple inputs)\n",
    "    {\"role\": \"system\", \"content\": (\n",
    "      \"Act as a text classification system. \"\n",
    "      \"Each line in the input is a separate tweet. \"\n",
    "      f\"Classify each tweet into one of the given categories: {categories}\\n{defintions}\\n\"\n",
    "      \"Only include the selected category in your response and no further text. \"\n",
    "      \"Seperate the classifications of individual tweet by newline characters.\"\n",
    "    )},\n",
    "    # user input\n",
    "    {\"role\": \"user\", \"content\": \"\\n\".join(texts)},\n",
    "  ]\n",
    "\n",
    "  response = client.chat.completions.create(\n",
    "    model=model,\n",
    "    messages=messages,\n",
    "    temperature=0.0,\n",
    "    seed=42,\n",
    "    frequency_penalty=0,\n",
    "    presence_penalty=0\n",
    "  )\n",
    "  \n",
    "  result = response.choices[0].message.content\n",
    "  \n",
    "  return result.split(\"\\n\")"
   ]
  },
  {
   "cell_type": "code",
   "execution_count": 86,
   "id": "148f995f",
   "metadata": {},
   "outputs": [
    {
     "name": "stdout",
     "output_type": "stream",
     "text": [
      "[Choice(finish_reason='stop', index=0, logprobs=None, message=ChatCompletionMessage(content='Irrelevant\\nIrrelevant\\nIrrelevant\\nRelevant\\nRelevant\\nRelevant\\nRelevant\\nRelevant\\nRelevant\\nRelevant', role='assistant', function_call=None, tool_calls=None))]\n"
     ]
    },
    {
     "data": {
      "text/plain": [
       "(10, 10)"
      ]
     },
     "execution_count": 86,
     "metadata": {},
     "output_type": "execute_result"
    }
   ],
   "source": [
    "classifications = classify_tweets(texts, model=\"gpt-4\")\n",
    "len(texts), len(classifications)"
   ]
  },
  {
   "cell_type": "code",
   "execution_count": 91,
   "id": "ea7732d0",
   "metadata": {},
   "outputs": [
    {
     "data": {
      "application/vnd.jupyter.widget-view+json": {
       "model_id": "700a806b3dd24b19ac29ed838d9bc03f",
       "version_major": 2,
       "version_minor": 0
      },
      "text/plain": [
       "Iteration:   0%|          | 0/5 [00:00<?, ?it/s]"
      ]
     },
     "metadata": {},
     "output_type": "display_data"
    },
    {
     "name": "stdout",
     "output_type": "stream",
     "text": [
      "[Choice(finish_reason='stop', index=0, logprobs=None, message=ChatCompletionMessage(content='Relevant\\nIrrelevant\\nIrrelevant\\nRelevant\\nIrrelevant\\nIrrelevant\\nRelevant\\nIrrelevant\\nIrrelevant\\nIrrelevant', role='assistant', function_call=None, tool_calls=None))]\n",
      "[Choice(finish_reason='stop', index=0, logprobs=None, message=ChatCompletionMessage(content='Relevant\\nIrrelevant\\nIrrelevant\\nIrrelevant\\nIrrelevant\\nIrrelevant\\nIrrelevant\\nRelevant\\nRelevant\\nIrrelevant', role='assistant', function_call=None, tool_calls=None))]\n",
      "[Choice(finish_reason='stop', index=0, logprobs=None, message=ChatCompletionMessage(content='Relevant\\nIrrelevant\\nRelevant\\nIrrelevant\\nRelevant\\nIrrelevant\\nRelevant\\nIrrelevant\\nRelevant\\nRelevant', role='assistant', function_call=None, tool_calls=None))]\n",
      "[Choice(finish_reason='stop', index=0, logprobs=None, message=ChatCompletionMessage(content='Irrelevant\\nRelevant\\nIrrelevant\\nRelevant\\nRelevant\\nRelevant\\nIrrelevant\\nRelevant\\nIrrelevant\\nRelevant', role='assistant', function_call=None, tool_calls=None))]\n",
      "[Choice(finish_reason='stop', index=0, logprobs=None, message=ChatCompletionMessage(content='Relevant\\nIrrelevant\\nRelevant\\nRelevant\\nRelevant\\nIrrelevant\\nRelevant\\nRelevant\\nRelevant\\nRelevant', role='assistant', function_call=None, tool_calls=None))]\n"
     ]
    }
   ],
   "source": [
    "from tqdm.auto import tqdm\n",
    "# create a list of indexes from 0-9 and reshuffle it\n",
    "import random\n",
    "idxs = list(range(10))\n",
    "\n",
    "# set the seed\n",
    "random.seed(42)\n",
    "\n",
    "results = []\n",
    "n_iter = 5\n",
    "for i in tqdm(range(n_iter), total=n_iter, desc=\"Iteration\"):\n",
    "    random.shuffle(idxs)\n",
    "    inputs = [texts[i] for i in idxs]\n",
    "    outputs = classify_tweets(inputs, model=\"gpt-4\")\n",
    "    sorted_outputs = [c for _, c in sorted(zip(idxs, outputs))]\n",
    "    results.append(sorted_outputs)"
   ]
  },
  {
   "cell_type": "code",
   "execution_count": 94,
   "id": "7cf426fe",
   "metadata": {},
   "outputs": [
    {
     "data": {
      "text/html": [
       "<div>\n",
       "<style scoped>\n",
       "    .dataframe tbody tr th:only-of-type {\n",
       "        vertical-align: middle;\n",
       "    }\n",
       "\n",
       "    .dataframe tbody tr th {\n",
       "        vertical-align: top;\n",
       "    }\n",
       "\n",
       "    .dataframe thead th {\n",
       "        text-align: right;\n",
       "    }\n",
       "</style>\n",
       "<table border=\"1\" class=\"dataframe\">\n",
       "  <thead>\n",
       "    <tr style=\"text-align: right;\">\n",
       "      <th></th>\n",
       "      <th>text01</th>\n",
       "      <th>text02</th>\n",
       "      <th>text03</th>\n",
       "      <th>text04</th>\n",
       "      <th>text05</th>\n",
       "      <th>text06</th>\n",
       "      <th>text07</th>\n",
       "      <th>text08</th>\n",
       "      <th>text09</th>\n",
       "      <th>text10</th>\n",
       "    </tr>\n",
       "  </thead>\n",
       "  <tbody>\n",
       "    <tr>\n",
       "      <th>0</th>\n",
       "      <td>Irrelevant</td>\n",
       "      <td>Irrelevant</td>\n",
       "      <td>Irrelevant</td>\n",
       "      <td>Irrelevant</td>\n",
       "      <td>Irrelevant</td>\n",
       "      <td>Irrelevant</td>\n",
       "      <td>Irrelevant</td>\n",
       "      <td>Relevant</td>\n",
       "      <td>Relevant</td>\n",
       "      <td>Relevant</td>\n",
       "    </tr>\n",
       "    <tr>\n",
       "      <th>1</th>\n",
       "      <td>Irrelevant</td>\n",
       "      <td>Irrelevant</td>\n",
       "      <td>Irrelevant</td>\n",
       "      <td>Irrelevant</td>\n",
       "      <td>Irrelevant</td>\n",
       "      <td>Irrelevant</td>\n",
       "      <td>Irrelevant</td>\n",
       "      <td>Relevant</td>\n",
       "      <td>Relevant</td>\n",
       "      <td>Relevant</td>\n",
       "    </tr>\n",
       "    <tr>\n",
       "      <th>2</th>\n",
       "      <td>Irrelevant</td>\n",
       "      <td>Irrelevant</td>\n",
       "      <td>Irrelevant</td>\n",
       "      <td>Relevant</td>\n",
       "      <td>Irrelevant</td>\n",
       "      <td>Relevant</td>\n",
       "      <td>Relevant</td>\n",
       "      <td>Relevant</td>\n",
       "      <td>Relevant</td>\n",
       "      <td>Relevant</td>\n",
       "    </tr>\n",
       "    <tr>\n",
       "      <th>3</th>\n",
       "      <td>Irrelevant</td>\n",
       "      <td>Irrelevant</td>\n",
       "      <td>Irrelevant</td>\n",
       "      <td>Relevant</td>\n",
       "      <td>Irrelevant</td>\n",
       "      <td>Relevant</td>\n",
       "      <td>Relevant</td>\n",
       "      <td>Relevant</td>\n",
       "      <td>Relevant</td>\n",
       "      <td>Relevant</td>\n",
       "    </tr>\n",
       "    <tr>\n",
       "      <th>4</th>\n",
       "      <td>Irrelevant</td>\n",
       "      <td>Relevant</td>\n",
       "      <td>Irrelevant</td>\n",
       "      <td>Relevant</td>\n",
       "      <td>Relevant</td>\n",
       "      <td>Relevant</td>\n",
       "      <td>Relevant</td>\n",
       "      <td>Relevant</td>\n",
       "      <td>Relevant</td>\n",
       "      <td>Relevant</td>\n",
       "    </tr>\n",
       "  </tbody>\n",
       "</table>\n",
       "</div>"
      ],
      "text/plain": [
       "       text01      text02      text03      text04      text05      text06  \\\n",
       "0  Irrelevant  Irrelevant  Irrelevant  Irrelevant  Irrelevant  Irrelevant   \n",
       "1  Irrelevant  Irrelevant  Irrelevant  Irrelevant  Irrelevant  Irrelevant   \n",
       "2  Irrelevant  Irrelevant  Irrelevant    Relevant  Irrelevant    Relevant   \n",
       "3  Irrelevant  Irrelevant  Irrelevant    Relevant  Irrelevant    Relevant   \n",
       "4  Irrelevant    Relevant  Irrelevant    Relevant    Relevant    Relevant   \n",
       "\n",
       "       text07    text08    text09    text10  \n",
       "0  Irrelevant  Relevant  Relevant  Relevant  \n",
       "1  Irrelevant  Relevant  Relevant  Relevant  \n",
       "2    Relevant  Relevant  Relevant  Relevant  \n",
       "3    Relevant  Relevant  Relevant  Relevant  \n",
       "4    Relevant  Relevant  Relevant  Relevant  "
      ]
     },
     "execution_count": 94,
     "metadata": {},
     "output_type": "execute_result"
    }
   ],
   "source": [
    "import pandas as pd\n",
    "\n",
    "pd.DataFrame(results, columns=[f\"text{i:02d}\" for i , _ in enumerate(texts, start=1)])"
   ]
  },
  {
   "cell_type": "markdown",
   "id": "3e9c705e",
   "metadata": {},
   "source": [
    "As you can see, the classifications of texts 2, 4, 5, 6, and 7 are not robust to the order of texts in the input 🤷‍♂️"
   ]
  }
 ],
 "metadata": {
  "kernelspec": {
   "display_name": "llm_text_annotation",
   "language": "python",
   "name": "python3"
  },
  "language_info": {
   "codemirror_mode": {
    "name": "ipython",
    "version": 3
   },
   "file_extension": ".py",
   "mimetype": "text/x-python",
   "name": "python",
   "nbconvert_exporter": "python",
   "pygments_lexer": "ipython3",
   "version": "3.11.7"
  }
 },
 "nbformat": 4,
 "nbformat_minor": 5
}
